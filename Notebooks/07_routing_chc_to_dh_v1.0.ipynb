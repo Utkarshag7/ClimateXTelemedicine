{
 "cells": [
  {
   "cell_type": "code",
   "execution_count": 2,
   "id": "b740115a",
   "metadata": {},
   "outputs": [
    {
     "name": "stderr",
     "output_type": "stream",
     "text": [
      "Districts:   3%|▎         | 1/30 [00:04<02:05,  4.32s/it]"
     ]
    },
    {
     "name": "stdout",
     "output_type": "stream",
     "text": [
      "✅ anugul → saved 1889 records\n"
     ]
    },
    {
     "name": "stderr",
     "output_type": "stream",
     "text": [
      "Districts:   7%|▋         | 2/30 [00:08<01:56,  4.16s/it]"
     ]
    },
    {
     "name": "stdout",
     "output_type": "stream",
     "text": [
      "✅ balangir → saved 1792 records\n"
     ]
    },
    {
     "name": "stderr",
     "output_type": "stream",
     "text": [
      "Districts:  10%|█         | 3/30 [00:14<02:22,  5.27s/it]"
     ]
    },
    {
     "name": "stdout",
     "output_type": "stream",
     "text": [
      "✅ baleshwar → saved 2936 records\n"
     ]
    },
    {
     "name": "stderr",
     "output_type": "stream",
     "text": [
      "Districts:  13%|█▎        | 4/30 [00:18<01:58,  4.54s/it]"
     ]
    },
    {
     "name": "stdout",
     "output_type": "stream",
     "text": [
      "✅ bargarh → saved 1214 records\n"
     ]
    },
    {
     "name": "stderr",
     "output_type": "stream",
     "text": [
      "Districts:  17%|█▋        | 5/30 [00:21<01:42,  4.12s/it]"
     ]
    },
    {
     "name": "stdout",
     "output_type": "stream",
     "text": [
      "✅ bhadrak → saved 1321 records\n"
     ]
    },
    {
     "name": "stderr",
     "output_type": "stream",
     "text": [
      "Districts:  20%|██        | 6/30 [00:24<01:26,  3.62s/it]"
     ]
    },
    {
     "name": "stdout",
     "output_type": "stream",
     "text": [
      "✅ boudh → saved 1188 records\n"
     ]
    },
    {
     "name": "stderr",
     "output_type": "stream",
     "text": [
      "Districts:  23%|██▎       | 7/30 [00:29<01:37,  4.26s/it]"
     ]
    },
    {
     "name": "stdout",
     "output_type": "stream",
     "text": [
      "✅ cuttack → saved 1961 records\n"
     ]
    },
    {
     "name": "stderr",
     "output_type": "stream",
     "text": [
      "Districts:  27%|██▋       | 8/30 [00:31<01:15,  3.43s/it]"
     ]
    },
    {
     "name": "stdout",
     "output_type": "stream",
     "text": [
      "✅ deogarh → saved 879 records\n"
     ]
    },
    {
     "name": "stderr",
     "output_type": "stream",
     "text": [
      "Districts:  30%|███       | 9/30 [00:34<01:07,  3.19s/it]"
     ]
    },
    {
     "name": "stdout",
     "output_type": "stream",
     "text": [
      "✅ dhenkanal → saved 1213 records\n",
      "OSRM Table API error: unsupported operand type(s) for /: 'NoneType' and 'float'\n",
      "OSRM Table API error: unsupported operand type(s) for /: 'NoneType' and 'float'\n",
      "OSRM Table API error: unsupported operand type(s) for /: 'NoneType' and 'float'\n",
      "OSRM Table API error: unsupported operand type(s) for /: 'NoneType' and 'float'\n",
      "OSRM Table API error: unsupported operand type(s) for /: 'NoneType' and 'float'\n",
      "OSRM Table API error: unsupported operand type(s) for /: 'NoneType' and 'float'\n",
      "OSRM Table API error: unsupported operand type(s) for /: 'NoneType' and 'float'\n",
      "OSRM Table API error: unsupported operand type(s) for /: 'NoneType' and 'float'\n",
      "OSRM Table API error: unsupported operand type(s) for /: 'NoneType' and 'float'\n",
      "OSRM Table API error: unsupported operand type(s) for /: 'NoneType' and 'float'\n",
      "OSRM Table API error: unsupported operand type(s) for /: 'NoneType' and 'float'\n",
      "OSRM Table API error: unsupported operand type(s) for /: 'NoneType' and 'float'\n",
      "OSRM Table API error: unsupported operand type(s) for /: 'NoneType' and 'float'\n",
      "OSRM Table API error: unsupported operand type(s) for /: 'NoneType' and 'float'\n",
      "OSRM Table API error: unsupported operand type(s) for /: 'NoneType' and 'float'\n",
      "OSRM Table API error: unsupported operand type(s) for /: 'NoneType' and 'float'\n",
      "OSRM Table API error: unsupported operand type(s) for /: 'NoneType' and 'float'\n",
      "OSRM Table API error: unsupported operand type(s) for /: 'NoneType' and 'float'\n",
      "OSRM Table API error: unsupported operand type(s) for /: 'NoneType' and 'float'\n",
      "OSRM Table API error: unsupported operand type(s) for /: 'NoneType' and 'float'\n",
      "OSRM Table API error: unsupported operand type(s) for /: 'NoneType' and 'float'\n",
      "OSRM Table API error: unsupported operand type(s) for /: 'NoneType' and 'float'\n",
      "OSRM Table API error: unsupported operand type(s) for /: 'NoneType' and 'float'\n",
      "OSRM Table API error: unsupported operand type(s) for /: 'NoneType' and 'float'\n",
      "OSRM Table API error: unsupported operand type(s) for /: 'NoneType' and 'float'\n",
      "OSRM Table API error: unsupported operand type(s) for /: 'NoneType' and 'float'\n"
     ]
    },
    {
     "name": "stderr",
     "output_type": "stream",
     "text": [
      "Districts:  33%|███▎      | 10/30 [00:38<01:07,  3.38s/it]"
     ]
    },
    {
     "name": "stdout",
     "output_type": "stream",
     "text": [
      "OSRM Table API error: unsupported operand type(s) for /: 'NoneType' and 'float'\n",
      "OSRM Table API error: unsupported operand type(s) for /: 'NoneType' and 'float'\n",
      "OSRM Table API error: unsupported operand type(s) for /: 'NoneType' and 'float'\n",
      "OSRM Table API error: unsupported operand type(s) for /: 'NoneType' and 'float'\n",
      "✅ gajapati → saved 1618 records\n",
      "OSRM Table API error: unsupported operand type(s) for /: 'NoneType' and 'float'\n",
      "OSRM Table API error: unsupported operand type(s) for /: 'NoneType' and 'float'\n",
      "OSRM Table API error: unsupported operand type(s) for /: 'NoneType' and 'float'\n",
      "OSRM Table API error: unsupported operand type(s) for /: 'NoneType' and 'float'\n",
      "OSRM Table API error: unsupported operand type(s) for /: 'NoneType' and 'float'\n",
      "OSRM Table API error: unsupported operand type(s) for /: 'NoneType' and 'float'\n",
      "OSRM Table API error: unsupported operand type(s) for /: 'NoneType' and 'float'\n",
      "OSRM Table API error: unsupported operand type(s) for /: 'NoneType' and 'float'\n",
      "OSRM Table API error: unsupported operand type(s) for /: 'NoneType' and 'float'\n",
      "OSRM Table API error: unsupported operand type(s) for /: 'NoneType' and 'float'\n",
      "OSRM Table API error: unsupported operand type(s) for /: 'NoneType' and 'float'\n",
      "OSRM Table API error: unsupported operand type(s) for /: 'NoneType' and 'float'\n",
      "OSRM Table API error: unsupported operand type(s) for /: 'NoneType' and 'float'\n",
      "OSRM Table API error: unsupported operand type(s) for /: 'NoneType' and 'float'\n",
      "OSRM Table API error: unsupported operand type(s) for /: 'NoneType' and 'float'\n",
      "OSRM Table API error: unsupported operand type(s) for /: 'NoneType' and 'float'\n",
      "OSRM Table API error: unsupported operand type(s) for /: 'NoneType' and 'float'\n",
      "OSRM Table API error: unsupported operand type(s) for /: 'NoneType' and 'float'\n",
      "OSRM Table API error: unsupported operand type(s) for /: 'NoneType' and 'float'\n",
      "OSRM Table API error: unsupported operand type(s) for /: 'NoneType' and 'float'\n",
      "OSRM Table API error: unsupported operand type(s) for /: 'NoneType' and 'float'\n",
      "OSRM Table API error: unsupported operand type(s) for /: 'NoneType' and 'float'\n",
      "OSRM Table API error: unsupported operand type(s) for /: 'NoneType' and 'float'\n",
      "OSRM Table API error: unsupported operand type(s) for /: 'NoneType' and 'float'\n",
      "OSRM Table API error: unsupported operand type(s) for /: 'NoneType' and 'float'\n",
      "OSRM Table API error: unsupported operand type(s) for /: 'NoneType' and 'float'\n",
      "OSRM Table API error: unsupported operand type(s) for /: 'NoneType' and 'float'\n",
      "OSRM Table API error: unsupported operand type(s) for /: 'NoneType' and 'float'\n",
      "OSRM Table API error: unsupported operand type(s) for /: 'NoneType' and 'float'\n",
      "OSRM Table API error: unsupported operand type(s) for /: 'NoneType' and 'float'\n",
      "OSRM Table API error: unsupported operand type(s) for /: 'NoneType' and 'float'\n",
      "OSRM Table API error: unsupported operand type(s) for /: 'NoneType' and 'float'\n",
      "OSRM Table API error: unsupported operand type(s) for /: 'NoneType' and 'float'\n",
      "OSRM Table API error: unsupported operand type(s) for /: 'NoneType' and 'float'\n",
      "OSRM Table API error: unsupported operand type(s) for /: 'NoneType' and 'float'\n",
      "OSRM Table API error: unsupported operand type(s) for /: 'NoneType' and 'float'\n",
      "OSRM Table API error: unsupported operand type(s) for /: 'NoneType' and 'float'\n",
      "OSRM Table API error: unsupported operand type(s) for /: 'NoneType' and 'float'\n",
      "OSRM Table API error: unsupported operand type(s) for /: 'NoneType' and 'float'\n"
     ]
    },
    {
     "name": "stderr",
     "output_type": "stream",
     "text": [
      "Districts:  37%|███▋      | 11/30 [00:47<01:39,  5.22s/it]"
     ]
    },
    {
     "name": "stdout",
     "output_type": "stream",
     "text": [
      "✅ ganjam → saved 3233 records\n"
     ]
    },
    {
     "name": "stderr",
     "output_type": "stream",
     "text": [
      "Districts:  40%|████      | 12/30 [00:53<01:36,  5.34s/it]"
     ]
    },
    {
     "name": "stdout",
     "output_type": "stream",
     "text": [
      "✅ jagatsinghapur → saved 1296 records\n"
     ]
    },
    {
     "name": "stderr",
     "output_type": "stream",
     "text": [
      "Districts:  43%|████▎     | 13/30 [00:56<01:19,  4.67s/it]"
     ]
    },
    {
     "name": "stdout",
     "output_type": "stream",
     "text": [
      "✅ jajapur → saved 1794 records\n"
     ]
    },
    {
     "name": "stderr",
     "output_type": "stream",
     "text": [
      "Districts:  47%|████▋     | 14/30 [00:56<00:55,  3.47s/it]"
     ]
    },
    {
     "name": "stdout",
     "output_type": "stream",
     "text": [
      "✅ jharsuguda → saved 356 records\n"
     ]
    },
    {
     "name": "stderr",
     "output_type": "stream",
     "text": [
      "Districts:  50%|█████     | 15/30 [01:00<00:53,  3.59s/it]"
     ]
    },
    {
     "name": "stdout",
     "output_type": "stream",
     "text": [
      "✅ kalahandi → saved 2258 records\n"
     ]
    },
    {
     "name": "stderr",
     "output_type": "stream",
     "text": [
      "Districts:  53%|█████▎    | 16/30 [01:06<01:01,  4.37s/it]"
     ]
    },
    {
     "name": "stdout",
     "output_type": "stream",
     "text": [
      "✅ kandhamal → saved 2591 records\n"
     ]
    },
    {
     "name": "stderr",
     "output_type": "stream",
     "text": [
      "Districts:  57%|█████▋    | 17/30 [01:12<01:02,  4.80s/it]"
     ]
    },
    {
     "name": "stdout",
     "output_type": "stream",
     "text": [
      "✅ kendrapara → saved 1549 records\n"
     ]
    },
    {
     "name": "stderr",
     "output_type": "stream",
     "text": [
      "Districts:  60%|██████    | 18/30 [01:16<00:55,  4.60s/it]"
     ]
    },
    {
     "name": "stdout",
     "output_type": "stream",
     "text": [
      "✅ kendujhar → saved 2132 records\n"
     ]
    },
    {
     "name": "stderr",
     "output_type": "stream",
     "text": [
      "Districts:  63%|██████▎   | 19/30 [01:20<00:46,  4.25s/it]"
     ]
    },
    {
     "name": "stdout",
     "output_type": "stream",
     "text": [
      "✅ khordha → saved 1562 records\n"
     ]
    },
    {
     "name": "stderr",
     "output_type": "stream",
     "text": [
      "Districts:  67%|██████▋   | 20/30 [01:24<00:41,  4.19s/it]"
     ]
    },
    {
     "name": "stdout",
     "output_type": "stream",
     "text": [
      "✅ koraput → saved 2030 records\n"
     ]
    },
    {
     "name": "stderr",
     "output_type": "stream",
     "text": [
      "Districts:  70%|███████   | 21/30 [01:26<00:32,  3.56s/it]"
     ]
    },
    {
     "name": "stdout",
     "output_type": "stream",
     "text": [
      "✅ malkangiri → saved 973 records\n"
     ]
    },
    {
     "name": "stderr",
     "output_type": "stream",
     "text": [
      "Districts:  73%|███████▎  | 22/30 [01:34<00:39,  4.92s/it]"
     ]
    },
    {
     "name": "stdout",
     "output_type": "stream",
     "text": [
      "✅ mayurbhanj → saved 3970 records\n"
     ]
    },
    {
     "name": "stderr",
     "output_type": "stream",
     "text": [
      "Districts:  77%|███████▋  | 23/30 [01:36<00:28,  4.04s/it]"
     ]
    },
    {
     "name": "stdout",
     "output_type": "stream",
     "text": [
      "✅ nabarangpur → saved 892 records\n"
     ]
    },
    {
     "name": "stderr",
     "output_type": "stream",
     "text": [
      "Districts:  80%|████████  | 24/30 [01:40<00:23,  3.95s/it]"
     ]
    },
    {
     "name": "stdout",
     "output_type": "stream",
     "text": [
      "✅ nayagarh → saved 1701 records\n"
     ]
    },
    {
     "name": "stderr",
     "output_type": "stream",
     "text": [
      "Districts:  83%|████████▎ | 25/30 [01:41<00:16,  3.25s/it]"
     ]
    },
    {
     "name": "stdout",
     "output_type": "stream",
     "text": [
      "✅ nuapada → saved 670 records\n",
      "OSRM Table API error: unsupported operand type(s) for /: 'NoneType' and 'float'\n",
      "OSRM Table API error: unsupported operand type(s) for /: 'NoneType' and 'float'\n",
      "OSRM Table API error: unsupported operand type(s) for /: 'NoneType' and 'float'\n",
      "OSRM Table API error: unsupported operand type(s) for /: 'NoneType' and 'float'\n",
      "OSRM Table API error: unsupported operand type(s) for /: 'NoneType' and 'float'\n",
      "OSRM Table API error: unsupported operand type(s) for /: 'NoneType' and 'float'\n"
     ]
    },
    {
     "name": "stderr",
     "output_type": "stream",
     "text": [
      "Districts:  87%|████████▋ | 26/30 [01:48<00:17,  4.29s/it]"
     ]
    },
    {
     "name": "stdout",
     "output_type": "stream",
     "text": [
      "✅ puri → saved 1713 records\n",
      "OSRM Table API error: unsupported operand type(s) for /: 'NoneType' and 'float'\n",
      "OSRM Table API error: unsupported operand type(s) for /: 'NoneType' and 'float'\n",
      "OSRM Table API error: unsupported operand type(s) for /: 'NoneType' and 'float'\n",
      "OSRM Table API error: unsupported operand type(s) for /: 'NoneType' and 'float'\n",
      "OSRM Table API error: unsupported operand type(s) for /: 'NoneType' and 'float'\n",
      "OSRM Table API error: unsupported operand type(s) for /: 'NoneType' and 'float'\n",
      "OSRM Table API error: unsupported operand type(s) for /: 'NoneType' and 'float'\n",
      "OSRM Table API error: unsupported operand type(s) for /: 'NoneType' and 'float'\n",
      "OSRM Table API error: unsupported operand type(s) for /: 'NoneType' and 'float'\n"
     ]
    },
    {
     "name": "stderr",
     "output_type": "stream",
     "text": [
      "Districts:  90%|█████████ | 27/30 [01:52<00:12,  4.30s/it]"
     ]
    },
    {
     "name": "stdout",
     "output_type": "stream",
     "text": [
      "✅ rayagada → saved 2673 records\n"
     ]
    },
    {
     "name": "stderr",
     "output_type": "stream",
     "text": [
      "Districts:  93%|█████████▎| 28/30 [01:55<00:07,  3.81s/it]"
     ]
    },
    {
     "name": "stdout",
     "output_type": "stream",
     "text": [
      "✅ sambalpur → saved 1318 records\n"
     ]
    },
    {
     "name": "stderr",
     "output_type": "stream",
     "text": [
      "Districts:  97%|█████████▋| 29/30 [01:57<00:03,  3.19s/it]"
     ]
    },
    {
     "name": "stdout",
     "output_type": "stream",
     "text": [
      "✅ sonepur → saved 966 records\n"
     ]
    },
    {
     "name": "stderr",
     "output_type": "stream",
     "text": [
      "Districts: 100%|██████████| 30/30 [02:00<00:00,  4.02s/it]"
     ]
    },
    {
     "name": "stdout",
     "output_type": "stream",
     "text": [
      "✅ sundargarh → saved 1776 records\n"
     ]
    },
    {
     "name": "stderr",
     "output_type": "stream",
     "text": [
      "\n"
     ]
    }
   ],
   "source": [
    "import os\n",
    "import pandas as pd\n",
    "import geopandas as gpd\n",
    "import numpy as np\n",
    "from sklearn.neighbors import BallTree\n",
    "import requests\n",
    "from tqdm import tqdm\n",
    "\n",
    "# -------- PATH CONFIG -------- #\n",
    "DATA_ROOT = r\"C:\\Users\\utkar\\OneDrive\\Desktop\\ClimateXTelemedicine Odisha\\Odisha_VScode\\.venv\\Final_version\\Data\"\n",
    "FAC_FOLDER = os.path.join(DATA_ROOT, \"snapped_facilities_by_district\")\n",
    "VILLAGE_FOLDER = os.path.join(DATA_ROOT, \"snapped_villages_by_district\")\n",
    "OUTPUT_DIR = os.path.join(DATA_ROOT.replace(\"Data\", \"routing_dh\"))\n",
    "OSRM_URL = \"http://localhost:5000/table/v1/driving\"\n",
    "BYPASS_RATIO = 1.2\n",
    "FUNC_FLAG = \"is_functional\"\n",
    "K = 2\n",
    "BATCH_SIZE = 100\n",
    "\n",
    "os.makedirs(OUTPUT_DIR, exist_ok=True)\n",
    "\n",
    "def build_tree(df):\n",
    "    coords = np.radians(df[[\"latitude\", \"longitude\"]].values)\n",
    "    return BallTree(coords, metric=\"haversine\"), df.reset_index(drop=True)\n",
    "\n",
    "def osrm_table(origins, destinations):\n",
    "    if not origins or not destinations:\n",
    "        return None, None\n",
    "    all_coords = origins + destinations\n",
    "    src_idx = \";\".join(str(i) for i in range(len(origins)))\n",
    "    dst_idx = \";\".join(str(len(origins)+i) for i in range(len(destinations)))\n",
    "    coord_str = \";\".join([f\"{lon},{lat}\" for lon,lat in all_coords])\n",
    "    # ---- FIX: Add annotations=duration,distance ----\n",
    "    url = f\"{OSRM_URL}/{coord_str}?sources={src_idx}&destinations={dst_idx}&annotations=duration,distance\"\n",
    "    try:\n",
    "        r = requests.get(url)\n",
    "        j = r.json()\n",
    "        if \"durations\" not in j:\n",
    "            return None, None\n",
    "        durations = np.array(j[\"durations\"]) / 60.0\n",
    "        distances = np.array(j[\"distances\"]) / 1000.0 if \"distances\" in j else np.zeros_like(j[\"durations\"])\n",
    "        return durations, distances\n",
    "    except Exception as e:\n",
    "        print(f\"OSRM Table API error: {e}\")\n",
    "        return None, None\n",
    "\n",
    "for fn in tqdm(os.listdir(VILLAGE_FOLDER), desc=\"Districts\"):\n",
    "    if not fn.endswith(\"_villages_snapped.geojson\"):\n",
    "        continue\n",
    "    district = fn.split(\"_\")[0]\n",
    "    v_path = os.path.join(VILLAGE_FOLDER, fn)\n",
    "    f_path = os.path.join(FAC_FOLDER, f\"{district}_facilities_snapped.geojson\")\n",
    "    if not os.path.exists(f_path):\n",
    "        print(f\"❌ Skipping {district}: facilities file not found.\")\n",
    "        continue\n",
    "\n",
    "    # --- Load villages and facilities ---\n",
    "    villages = gpd.read_file(v_path)\n",
    "    facilities = gpd.read_file(f_path)\n",
    "    if villages.empty or facilities.empty:\n",
    "        continue\n",
    "\n",
    "    villages[\"longitude\"] = villages.geometry.x\n",
    "    villages[\"latitude\"] = villages.geometry.y\n",
    "    facilities[\"longitude\"] = facilities.geometry.x if \"geometry\" in facilities else facilities[\"snapped_lon\"]\n",
    "    facilities[\"latitude\"] = facilities.geometry.y if \"geometry\" in facilities else facilities[\"snapped_lat\"]\n",
    "\n",
    "    # Use correct LGD code column: always string and integer, no decimals\n",
    "    if \"lgd_villagecode\" in villages.columns:\n",
    "        villages['lgd_villagecode'] = villages['lgd_villagecode'].astype(float).astype(int).astype(str)\n",
    "        village_id_col = 'lgd_villagecode'\n",
    "    else:\n",
    "        raise ValueError(\"No lgd_villagecode column found in villages file!\")\n",
    "\n",
    "    if \"NIN\" not in facilities.columns:\n",
    "        raise ValueError(\"No NIN column found in facilities file!\")\n",
    "    facilities[\"NIN\"] = facilities[\"NIN\"].astype(str)\n",
    "\n",
    "    facilities['ftype_lower'] = facilities['facility_type_standardized'].str.lower().str.strip()\n",
    "    dh_like_types = ['dh', 'sdh', 'district hospital', 'sub district hospital']\n",
    "    dh_df = facilities[facilities['ftype_lower'].isin(dh_like_types)].copy()\n",
    "    phc_df = facilities[facilities['ftype_lower'].str.contains(\"phc\")].copy()\n",
    "    chc_df = facilities[facilities['ftype_lower'].str.contains(\"chc\")].copy()\n",
    "\n",
    "    phc_tree, phc_df = build_tree(phc_df) if not phc_df.empty else (None, phc_df)\n",
    "    chc_tree, chc_df = build_tree(chc_df) if not chc_df.empty else (None, chc_df)\n",
    "    dh_tree, dh_df = build_tree(dh_df) if not dh_df.empty else (None, dh_df)\n",
    "\n",
    "    v_lats = villages.latitude.values\n",
    "    v_lons = villages.longitude.values\n",
    "    v_coords = np.vstack([v_lats, v_lons]).T\n",
    "    v_rad = np.radians(v_coords)\n",
    "\n",
    "    if phc_tree:\n",
    "        phc_dists, phc_idxs = phc_tree.query(v_rad, k=min(K, len(phc_df)))\n",
    "    else:\n",
    "        phc_idxs = np.full((len(villages), 1), -1)\n",
    "    if chc_tree:\n",
    "        chc_dists, chc_idxs = chc_tree.query(v_rad, k=min(K, len(chc_df)))\n",
    "    else:\n",
    "        chc_idxs = np.full((len(villages), 1), -1)\n",
    "    if dh_tree:\n",
    "        dh_dists, dh_idxs = dh_tree.query(v_rad, k=min(K, len(dh_df)))\n",
    "    else:\n",
    "        dh_idxs = np.full((len(villages), 1), -1)\n",
    "\n",
    "    candidate_phcs = [[phc_df.iloc[idx] if idx != -1 else None for idx in row] for row in phc_idxs]\n",
    "    candidate_chcs = [[chc_df.iloc[idx] if idx != -1 else None for idx in row] for row in chc_idxs]\n",
    "    candidate_dhs = [[dh_df.iloc[idx] if idx != -1 else None for idx in row] for row in dh_idxs]\n",
    "\n",
    "    n = len(villages)\n",
    "    rows = []\n",
    "    for batch_start in range(0, n, BATCH_SIZE):\n",
    "        batch_end = min(batch_start + BATCH_SIZE, n)\n",
    "        b_idx = range(batch_start, batch_end)\n",
    "        batch_v = villages.iloc[list(b_idx)]\n",
    "        origins = [(row.longitude, row.latitude) for row in batch_v.itertuples()]\n",
    "\n",
    "        def batch_cands(cands):\n",
    "            uniq = []\n",
    "            m = []\n",
    "            for i in b_idx:\n",
    "                c = cands[i][0]\n",
    "                if c is None:\n",
    "                    m.append(-1)\n",
    "                    continue\n",
    "                tup = (c.longitude, c.latitude)\n",
    "                if tup not in uniq:\n",
    "                    uniq.append(tup)\n",
    "                m.append(uniq.index(tup))\n",
    "            return uniq, m\n",
    "\n",
    "        batch_phcs, batch_phc_map = batch_cands(candidate_phcs)\n",
    "        batch_chcs, batch_chc_map = batch_cands(candidate_chcs)\n",
    "        batch_dhs, batch_dh_map = batch_cands(candidate_dhs)\n",
    "\n",
    "        t_phc_mat, d_phc_mat = osrm_table(origins, batch_phcs) if batch_phcs else (None, None)\n",
    "        t_chc_mat, d_chc_mat = osrm_table(origins, batch_chcs) if batch_chcs else (None, None)\n",
    "        t_dh_mat, d_dh_mat = osrm_table(origins, batch_dhs) if batch_dhs else (None, None)\n",
    "\n",
    "        for j, v in enumerate(batch_v.itertuples()):\n",
    "            i = batch_start + j\n",
    "            phc_cand = candidate_phcs[i][0] if candidate_phcs[i][0] is not None else None\n",
    "            chc_cand = candidate_chcs[i][0] if candidate_chcs[i][0] is not None else None\n",
    "            dh_cand = candidate_dhs[i][0] if candidate_dhs[i][0] is not None else None\n",
    "\n",
    "            t_phc = t_phc_mat[j, batch_phc_map[j]] if t_phc_mat is not None and batch_phc_map[j] != -1 else None\n",
    "            t_chc = t_chc_mat[j, batch_chc_map[j]] if t_chc_mat is not None and batch_chc_map[j] != -1 else None\n",
    "            t_dh = t_dh_mat[j, batch_dh_map[j]] if t_dh_mat is not None and batch_dh_map[j] != -1 else None\n",
    "            d_phc = d_phc_mat[j, batch_phc_map[j]] if d_phc_mat is not None and batch_phc_map[j] != -1 else None\n",
    "            d_chc = d_chc_mat[j, batch_chc_map[j]] if d_chc_mat is not None and batch_chc_map[j] != -1 else None\n",
    "            d_dh = d_dh_mat[j, batch_dh_map[j]] if d_dh_mat is not None and batch_dh_map[j] != -1 else None\n",
    "\n",
    "            times = {\"PHC\": t_phc if t_phc is not None else np.inf,\n",
    "                     \"CHC\": t_chc if t_chc is not None else np.inf,\n",
    "                     \"DH/SDH\": t_dh if t_dh is not None else np.inf}\n",
    "            closest_type = min(times, key=times.get)\n",
    "\n",
    "            phc_func = phc_cand[FUNC_FLAG] if phc_cand is not None and FUNC_FLAG in phc_cand else True\n",
    "            chc_func = chc_cand[FUNC_FLAG] if chc_cand is not None and FUNC_FLAG in chc_cand else True\n",
    "\n",
    "            if (t_dh is not None and\n",
    "                (\n",
    "                 (t_phc is None or not phc_func or t_dh <= t_phc * BYPASS_RATIO) and\n",
    "                 (t_chc is None or not chc_func or t_dh <= t_chc * BYPASS_RATIO)\n",
    "                )):\n",
    "                first_stop = \"Village→DH/SDH\"\n",
    "                final_dh = dh_cand.NIN if dh_cand is not None else None\n",
    "                comment = \"Direct to DH/SDH\"\n",
    "            elif t_phc is not None and t_phc <= (t_chc or np.inf) and phc_func:\n",
    "                first_stop = phc_cand.NIN if phc_cand is not None else None\n",
    "                final_dh = dh_cand.NIN if dh_cand is not None else None\n",
    "                comment = \"PHC is closer and functional\"\n",
    "            elif t_chc is not None and chc_func:\n",
    "                first_stop = chc_cand.NIN if chc_cand is not None else None\n",
    "                final_dh = dh_cand.NIN if dh_cand is not None else None\n",
    "                comment = \"CHC is closer and functional\"\n",
    "            else:\n",
    "                first_stop = \"Village→DH/SDH\"\n",
    "                final_dh = dh_cand.NIN if dh_cand is not None else None\n",
    "                comment = \"Fallback to DH/SDH\"\n",
    "\n",
    "            rows.append({\n",
    "                \"village_id\": v.lgd_villagecode,\n",
    "                \"first_stop\": first_stop,\n",
    "                \"assigned_DH_SDH\": final_dh,\n",
    "                \"closest_facility_type\": closest_type,\n",
    "                \"t_phc_min\": t_phc,\n",
    "                \"t_chc_min\": t_chc,\n",
    "                \"t_dh_sdh_min\": t_dh,\n",
    "                \"d_phc_km\": d_phc,\n",
    "                \"d_chc_km\": d_chc,\n",
    "                \"d_dh_sdh_km\": d_dh,\n",
    "                \"phc_is_functional\": phc_func,\n",
    "                \"chc_is_functional\": chc_func,\n",
    "                \"comment\": comment\n",
    "            })\n",
    "\n",
    "    out_df = pd.DataFrame(rows)\n",
    "    out_path = os.path.join(OUTPUT_DIR, f\"{district}_village_to_dh_sdh.csv\")\n",
    "    out_df.to_csv(out_path, index=False)\n",
    "    print(f\"✅ {district} → saved {len(out_df)} records\")"
   ]
  },
  {
   "cell_type": "code",
   "execution_count": 1,
   "id": "f0d33212",
   "metadata": {},
   "outputs": [],
   "source": [
    "# -----------------------------------------------------------------------------\n",
    "# Odisha Village-to-Facility Road-based Routing: Step-by-Step Process\n",
    "# -----------------------------------------------------------------------------\n",
    "# 1. Data Preparation\n",
    "#    - Loaded snapped village centroids (GeoJSON) and snapped health facility points (GeoJSON) for each district.\n",
    "#    - Ensured consistent, unique identifiers:\n",
    "#        - Villages: 'lgd_villagecode' (converted to string, no decimals)\n",
    "#        - Facilities: 'NIN' (converted to string)\n",
    "#    - Extracted latitude and longitude from geometry for all points.\n",
    "#\n",
    "# 2. Facility Type Filtering\n",
    "#    - Filtered health facilities by standardized type (PHC, CHC, DH, SDH).\n",
    "#    - Created separate datasets for each tier:\n",
    "#        - PHC: Includes all Primary Health Centres.\n",
    "#        - CHC: Includes all Community Health Centres.\n",
    "#        - DH/SDH: Includes District Hospitals and Sub-District Hospitals.\n",
    "#\n",
    "# 3. Nearest Neighbor Shortlisting (BallTree)\n",
    "#    - For each village, shortlisted up to K=2 nearest PHCs, CHCs, and DH/SDHs using BallTree (haversine distance).\n",
    "#    - This reduces the number of road-based route queries and ensures computational efficiency.\n",
    "#\n",
    "# 4. Road-based Routing (OSRM Table API)\n",
    "#    - Batched villages (default 100 per batch) and calculated real travel time and distance from each village to its nearest PHC, CHC, DH/SDH.\n",
    "#    - Used OSRM Table API with 'annotations=duration,distance' for road-based results.\n",
    "#    - Handled missing routes with error checks; records with no valid route are marked as NaN.\n",
    "#\n",
    "# 5. Facility Assignment and Routing Logic\n",
    "#    - For each village, compared road-based travel time to PHC, CHC, and DH/SDH.\n",
    "#    - Assignment logic:\n",
    "#         a) If DH/SDH is not much further than PHC/CHC (<=1.2x) or if PHC/CHC are non-functional, assign village directly to DH/SDH.\n",
    "#         b) If PHC is closer and functional, assign PHC as first stop and DH/SDH as final referral.\n",
    "#         c) If CHC is closer and functional, assign CHC as first stop and DH/SDH as final referral.\n",
    "#         d) Fallback: assign DH/SDH if all else fails.\n",
    "#    - Output all logic, facility assignments, distances, and times in the final CSV.\n",
    "#\n",
    "# 6. Output and Validation\n",
    "#    - Saved a CSV for each district in 'Final_version/routing_dh/', containing:\n",
    "#        - Village and facility IDs, all distance/time results, assigned facilities, closest tier, and logic comments.\n",
    "#    - Outputs are suitable for policy analysis, dashboarding, and research.\n",
    "#\n",
    "# 7. Error Handling and Quality Assurance\n",
    "#    - OSRM errors (e.g., disconnected roads) are logged and non-disruptive.\n",
    "#    - The pipeline is modular and can be rerun for new data, additional facility types, or routing profiles (e.g., foot, bicycle).\n",
    "#\n",
    "# -----------------------------------------------------------------------------\n",
    "# This workflow enables a scalable, reproducible, and policy-grade assessment of\n",
    "# healthcare accessibility and referral routing across all villages in Odisha.\n",
    "# -----------------------------------------------------------------------------\n"
   ]
  }
 ],
 "metadata": {
  "kernelspec": {
   "display_name": ".venv",
   "language": "python",
   "name": "python3"
  },
  "language_info": {
   "codemirror_mode": {
    "name": "ipython",
    "version": 3
   },
   "file_extension": ".py",
   "mimetype": "text/x-python",
   "name": "python",
   "nbconvert_exporter": "python",
   "pygments_lexer": "ipython3",
   "version": "3.13.2"
  }
 },
 "nbformat": 4,
 "nbformat_minor": 5
}
