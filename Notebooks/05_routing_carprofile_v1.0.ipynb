{
 "cells": [
  {
   "cell_type": "code",
   "execution_count": 1,
   "id": "dcdadbee",
   "metadata": {},
   "outputs": [
    {
     "name": "stdout",
     "output_type": "stream",
     "text": [
      "✅ Configuration loaded with 30 districts:\n",
      "['anugul', 'balangir', 'baleshwar', 'bargarh', 'bhadrak', 'boudh', 'cuttack', 'deogarh', 'dhenkanal', 'gajapati', 'ganjam', 'jagatsinghapur', 'jajapur', 'jharsuguda', 'kalahandi', 'kandhamal', 'kendrapara', 'kendujhar', 'khordha', 'koraput', 'malkangiri', 'mayurbhanj', 'nabarangpur', 'nayagarh', 'nuapada', 'puri', 'rayagada', 'sambalpur', 'sonepur', 'sundargarh']\n"
     ]
    }
   ],
   "source": [
    "# ✅ Cell 1: Setup and Configuration\n",
    "\n",
    "import pandas as pd\n",
    "from pathlib import Path\n",
    "\n",
    "# 📂 Set local data paths (update if needed)\n",
    "SNAPPED_VILLAGE_DIR = Path(r\"C:/Users/utkar/OneDrive/Desktop/ClimateXTelemedicine Odisha/Odisha_VScode/.venv/Final_version/Data/snapped_villages_by_district\")\n",
    "SNAPPED_FACILITY_DIR = Path(r\"C:/Users/utkar/OneDrive/Desktop/ClimateXTelemedicine Odisha/Odisha_VScode/.venv/Final_version/Data/snapped_facilities_by_district\")\n",
    "OUTPUT_BASE_DIR = Path(r\"C:/Users/utkar/OneDrive/Desktop/ClimateXTelemedicine Odisha/Odisha_VScode/.venv/Final_version/Ouptuts\")\n",
    "\n",
    "# 🌍 OSRM local engine URL\n",
    "OSRM_URL = \"http://localhost:5000\"\n",
    "\n",
    "# 🧾 Load master file to extract district names\n",
    "master_path = Path(r\"C:/Users/utkar/OneDrive/Desktop/ClimateXTelemedicine Odisha/Odisha_VScode/.venv/Final_version/Data/master_dataset_final.csv\")\n",
    "master_df = pd.read_csv(master_path)\n",
    "\n",
    "# ✅ Get clean district list\n",
    "districts = sorted(master_df[\"Districtname\"].dropna().str.lower().str.strip().unique())\n",
    "\n",
    "# 🏥 Facility configuration (knn for routing strategy)\n",
    "FACILITY_CONFIG = {\n",
    "    \"hsc\": {\"knn\": 1, \"output_subdir\": \"hsc\"},\n",
    "    \"phc\": {\"knn\": 3, \"output_subdir\": \"phc\"},\n",
    "    \"chc\": {\"knn\": 3, \"output_subdir\": \"chc\"}\n",
    "}\n",
    "\n",
    "print(f\"✅ Configuration loaded with {len(districts)} districts:\")\n",
    "print(districts)"
   ]
  },
  {
   "cell_type": "code",
   "execution_count": 4,
   "id": "10b1d232",
   "metadata": {},
   "outputs": [
    {
     "name": "stdout",
     "output_type": "stream",
     "text": [
      "✅ Configuration loaded with 30 districts.\n"
     ]
    }
   ],
   "source": [
    "# ✅ Cell 1 (Updated): Setup Paths and Configuration\n",
    "import pandas as pd\n",
    "from pathlib import Path\n",
    "\n",
    "# 📂 Root folders (update if changed)\n",
    "SNAPPED_VILLAGE_DIR = Path(r\"C:/Users/utkar/OneDrive/Desktop/ClimateXTelemedicine Odisha/Odisha_VScode/.venv/Final_version/Data/snapped_villages_by_district\")\n",
    "SNAPPED_FACILITY_DIR = Path(r\"C:/Users/utkar/OneDrive/Desktop/ClimateXTelemedicine Odisha/Odisha_VScode/.venv/Final_version/Data/snapped_facilities_by_district\")\n",
    "OUTPUT_BASE_DIR = Path(r\"C:/Users/utkar/OneDrive/Desktop/ClimateXTelemedicine Odisha/Odisha_VScode/.venv/Final_version/Ouptuts\")\n",
    "\n",
    "# 🌐 OSRM Server\n",
    "OSRM_URL = \"http://localhost:5000\"\n",
    "\n",
    "# ✅ Load district list from master dataset\n",
    "master_df = pd.read_csv(r\"C:/Users/utkar/OneDrive/Desktop/ClimateXTelemedicine Odisha/Odisha_VScode/.venv/Final_version/Data/master_dataset_final.csv\")\n",
    "districts = sorted(master_df[\"Districtname\"].dropna().str.lower().str.strip().unique())\n",
    "print(f\"✅ Configuration loaded with {len(districts)} districts.\")\n",
    "\n",
    "# ✅ Define global paths here (used in Cell 3)\n",
    "villages_root = SNAPPED_VILLAGE_DIR\n",
    "facilities_root = SNAPPED_FACILITY_DIR"
   ]
  },
  {
   "cell_type": "code",
   "execution_count": 2,
   "id": "eb0bbd6b",
   "metadata": {},
   "outputs": [],
   "source": [
    "# ✅ Cell 2: Define routing logic using OSRM and k-NN fallback\n",
    "\n",
    "import geopandas as gpd\n",
    "from shapely.geometry import Point\n",
    "from sklearn.neighbors import NearestNeighbors\n",
    "import requests\n",
    "import numpy as np\n",
    "import time\n",
    "from tqdm import tqdm\n",
    "\n",
    "def route_nearest_facility(village_gdf, facility_gdf, facility_type, district_name, osrm_url, output_dir):\n",
    "    \"\"\"\n",
    "    Routes villages to nearest health facilities using OSRM.\n",
    "    - For HSC: select nearest facility (k=1)\n",
    "    - For PHC/CHC: select best of 3 closest (k=3)\n",
    "    Outputs CSV with travel time + distance + identifiers.\n",
    "    \"\"\"\n",
    "    print(f\"\\n🔁 Routing {facility_type.upper()} for {district_name} using k-NN + OSRM strategy...\")\n",
    "\n",
    "    k = FACILITY_CONFIG[facility_type][\"knn\"]\n",
    "    results = []\n",
    "\n",
    "    # ✅ Prepare coordinate arrays\n",
    "    village_coords = np.array([[geom.x, geom.y] for geom in village_gdf.geometry])\n",
    "    facility_coords = np.array([[geom.x, geom.y] for geom in facility_gdf.geometry])\n",
    "\n",
    "    # ✅ Fit k-NN model\n",
    "    knn = NearestNeighbors(n_neighbors=min(k, len(facility_coords)), metric='euclidean')\n",
    "    knn.fit(facility_coords)\n",
    "    distances, indices = knn.kneighbors(village_coords)\n",
    "\n",
    "    for i, village in village_gdf.iterrows():\n",
    "        candidates = []\n",
    "        for j in indices[i]:\n",
    "            fac = facility_gdf.iloc[j]\n",
    "            coord_v = f\"{village.geometry.x},{village.geometry.y}\"\n",
    "            coord_f = f\"{fac.geometry.x},{fac.geometry.y}\"\n",
    "\n",
    "            try:\n",
    "                # 🛣️ OSRM API call\n",
    "                url = f\"{osrm_url}/route/v1/driving/{coord_v};{coord_f}?overview=false\"\n",
    "                response = requests.get(url).json()\n",
    "                if 'routes' in response and response['routes']:\n",
    "                    duration = response['routes'][0]['duration'] / 60  # in minutes\n",
    "                    distance = response['routes'][0]['distance'] / 1000  # in km\n",
    "                    candidates.append((duration, distance, fac))\n",
    "            except Exception as e:\n",
    "                print(f\"❌ OSRM failed for village {village['lgd_villagecode']} → facility {fac['NIN']}: {e}\")\n",
    "                continue\n",
    "\n",
    "        if not candidates:\n",
    "            print(f\"⚠️ No valid route for village {village['lgd_villagecode']}\")\n",
    "            continue\n",
    "\n",
    "        # ✅ Select best candidate: min travel time, then distance\n",
    "        best = sorted(candidates, key=lambda x: (x[0], x[1]))[0]\n",
    "        best_duration, best_distance, best_fac = best\n",
    "\n",
    "        results.append({\n",
    "            \"lgd_villagecode\": village.get(\"lgd_villagecode\"),\n",
    "            \"village_name\": village.get(\"villagename_locallang\") or village.get(\"village_name\"),\n",
    "            \"district\": district_name,\n",
    "            \"NIN\": best_fac[\"NIN\"],\n",
    "            \"facility_name\": best_fac[\"Facilityname\"],\n",
    "            \"facility_type\": facility_type,\n",
    "            \"travel_time_min\": round(best_duration, 2),\n",
    "            \"distance_km\": round(best_distance, 2)\n",
    "        })\n",
    "\n",
    "    # ✅ Save results\n",
    "    out_df = pd.DataFrame(results)\n",
    "    subdir = FACILITY_CONFIG[facility_type][\"output_subdir\"]\n",
    "    out_path = output_dir / subdir / f\"{district_name}_village_to_{facility_type}.csv\"\n",
    "    out_path.parent.mkdir(parents=True, exist_ok=True)\n",
    "    out_df.to_csv(out_path, index=False)\n",
    "    print(f\"✅ Saved: {out_path} ({len(out_df)} records)\")"
   ]
  },
  {
   "cell_type": "code",
   "execution_count": 5,
   "id": "21e12f98",
   "metadata": {},
   "outputs": [
    {
     "name": "stderr",
     "output_type": "stream",
     "text": [
      "🏁 District Progress:   0%|          | 0/30 [00:00<?, ?it/s]"
     ]
    },
    {
     "name": "stdout",
     "output_type": "stream",
     "text": [
      "\n",
      "🔁 Routing HSC for anugul using k-NN + OSRM strategy...\n",
      "✅ Saved: C:\\Users\\utkar\\OneDrive\\Desktop\\ClimateXTelemedicine Odisha\\Odisha_VScode\\.venv\\Final_version\\Ouptuts\\hsc\\anugul_village_to_hsc.csv (1889 records)\n",
      "\n",
      "🔁 Routing PHC for anugul using k-NN + OSRM strategy...\n",
      "✅ Saved: C:\\Users\\utkar\\OneDrive\\Desktop\\ClimateXTelemedicine Odisha\\Odisha_VScode\\.venv\\Final_version\\Ouptuts\\phc\\anugul_village_to_phc.csv (1889 records)\n",
      "\n",
      "🔁 Routing CHC for anugul using k-NN + OSRM strategy...\n"
     ]
    },
    {
     "name": "stderr",
     "output_type": "stream",
     "text": [
      "🏁 District Progress:   3%|▎         | 1/30 [02:40<1:17:42, 160.77s/it]"
     ]
    },
    {
     "name": "stdout",
     "output_type": "stream",
     "text": [
      "✅ Saved: C:\\Users\\utkar\\OneDrive\\Desktop\\ClimateXTelemedicine Odisha\\Odisha_VScode\\.venv\\Final_version\\Ouptuts\\chc\\anugul_village_to_chc.csv (1889 records)\n",
      "\n",
      "🔁 Routing HSC for balangir using k-NN + OSRM strategy...\n",
      "✅ Saved: C:\\Users\\utkar\\OneDrive\\Desktop\\ClimateXTelemedicine Odisha\\Odisha_VScode\\.venv\\Final_version\\Ouptuts\\hsc\\balangir_village_to_hsc.csv (1792 records)\n",
      "\n",
      "🔁 Routing PHC for balangir using k-NN + OSRM strategy...\n",
      "✅ Saved: C:\\Users\\utkar\\OneDrive\\Desktop\\ClimateXTelemedicine Odisha\\Odisha_VScode\\.venv\\Final_version\\Ouptuts\\phc\\balangir_village_to_phc.csv (1792 records)\n",
      "\n",
      "🔁 Routing CHC for balangir using k-NN + OSRM strategy...\n"
     ]
    },
    {
     "name": "stderr",
     "output_type": "stream",
     "text": [
      "🏁 District Progress:   7%|▋         | 2/30 [05:18<1:14:16, 159.17s/it]"
     ]
    },
    {
     "name": "stdout",
     "output_type": "stream",
     "text": [
      "✅ Saved: C:\\Users\\utkar\\OneDrive\\Desktop\\ClimateXTelemedicine Odisha\\Odisha_VScode\\.venv\\Final_version\\Ouptuts\\chc\\balangir_village_to_chc.csv (1792 records)\n",
      "\n",
      "🔁 Routing HSC for baleshwar using k-NN + OSRM strategy...\n",
      "⚠️ No valid route for village 391779.0\n",
      "⚠️ No valid route for village 391778.0\n",
      "✅ Saved: C:\\Users\\utkar\\OneDrive\\Desktop\\ClimateXTelemedicine Odisha\\Odisha_VScode\\.venv\\Final_version\\Ouptuts\\hsc\\baleshwar_village_to_hsc.csv (2934 records)\n",
      "\n",
      "🔁 Routing PHC for baleshwar using k-NN + OSRM strategy...\n",
      "✅ Saved: C:\\Users\\utkar\\OneDrive\\Desktop\\ClimateXTelemedicine Odisha\\Odisha_VScode\\.venv\\Final_version\\Ouptuts\\phc\\baleshwar_village_to_phc.csv (2936 records)\n",
      "\n",
      "🔁 Routing CHC for baleshwar using k-NN + OSRM strategy...\n"
     ]
    },
    {
     "name": "stderr",
     "output_type": "stream",
     "text": [
      "🏁 District Progress:  10%|█         | 3/30 [09:45<1:33:48, 208.48s/it]"
     ]
    },
    {
     "name": "stdout",
     "output_type": "stream",
     "text": [
      "✅ Saved: C:\\Users\\utkar\\OneDrive\\Desktop\\ClimateXTelemedicine Odisha\\Odisha_VScode\\.venv\\Final_version\\Ouptuts\\chc\\baleshwar_village_to_chc.csv (2936 records)\n",
      "\n",
      "🔁 Routing HSC for bargarh using k-NN + OSRM strategy...\n",
      "✅ Saved: C:\\Users\\utkar\\OneDrive\\Desktop\\ClimateXTelemedicine Odisha\\Odisha_VScode\\.venv\\Final_version\\Ouptuts\\hsc\\bargarh_village_to_hsc.csv (1214 records)\n",
      "\n",
      "🔁 Routing PHC for bargarh using k-NN + OSRM strategy...\n",
      "✅ Saved: C:\\Users\\utkar\\OneDrive\\Desktop\\ClimateXTelemedicine Odisha\\Odisha_VScode\\.venv\\Final_version\\Ouptuts\\phc\\bargarh_village_to_phc.csv (1214 records)\n",
      "\n",
      "🔁 Routing CHC for bargarh using k-NN + OSRM strategy...\n"
     ]
    },
    {
     "name": "stderr",
     "output_type": "stream",
     "text": [
      "🏁 District Progress:  13%|█▎        | 4/30 [11:26<1:11:55, 165.98s/it]"
     ]
    },
    {
     "name": "stdout",
     "output_type": "stream",
     "text": [
      "✅ Saved: C:\\Users\\utkar\\OneDrive\\Desktop\\ClimateXTelemedicine Odisha\\Odisha_VScode\\.venv\\Final_version\\Ouptuts\\chc\\bargarh_village_to_chc.csv (1214 records)\n",
      "\n",
      "🔁 Routing HSC for bhadrak using k-NN + OSRM strategy...\n",
      "⚠️ No valid route for village 394890.0\n",
      "⚠️ No valid route for village 394781.0\n",
      "⚠️ No valid route for village 394776.0\n",
      "⚠️ No valid route for village 394753.0\n",
      "✅ Saved: C:\\Users\\utkar\\OneDrive\\Desktop\\ClimateXTelemedicine Odisha\\Odisha_VScode\\.venv\\Final_version\\Ouptuts\\hsc\\bhadrak_village_to_hsc.csv (1317 records)\n",
      "\n",
      "🔁 Routing PHC for bhadrak using k-NN + OSRM strategy...\n",
      "✅ Saved: C:\\Users\\utkar\\OneDrive\\Desktop\\ClimateXTelemedicine Odisha\\Odisha_VScode\\.venv\\Final_version\\Ouptuts\\phc\\bhadrak_village_to_phc.csv (1321 records)\n",
      "\n",
      "🔁 Routing CHC for bhadrak using k-NN + OSRM strategy...\n"
     ]
    },
    {
     "name": "stderr",
     "output_type": "stream",
     "text": [
      "c:\\Users\\utkar\\OneDrive\\Desktop\\ClimateXTelemedicine Odisha\\Odisha_VScode\\.venv\\Lib\\site-packages\\joblib\\externals\\loky\\backend\\context.py:136: UserWarning: Could not find the number of physical cores for the following reason:\n",
      "[WinError 2] The system cannot find the file specified\n",
      "Returning the number of logical cores instead. You can silence this warning by setting LOKY_MAX_CPU_COUNT to the number of cores you want to use.\n",
      "  warnings.warn(\n",
      "  File \"c:\\Users\\utkar\\OneDrive\\Desktop\\ClimateXTelemedicine Odisha\\Odisha_VScode\\.venv\\Lib\\site-packages\\joblib\\externals\\loky\\backend\\context.py\", line 257, in _count_physical_cores\n",
      "    cpu_info = subprocess.run(\n",
      "        \"wmic CPU Get NumberOfCores /Format:csv\".split(),\n",
      "        capture_output=True,\n",
      "        text=True,\n",
      "    )\n",
      "  File \"C:\\Users\\utkar\\AppData\\Local\\Programs\\Python\\Python313\\Lib\\subprocess.py\", line 556, in run\n",
      "    with Popen(*popenargs, **kwargs) as process:\n",
      "         ~~~~~^^^^^^^^^^^^^^^^^^^^^^\n",
      "  File \"C:\\Users\\utkar\\AppData\\Local\\Programs\\Python\\Python313\\Lib\\subprocess.py\", line 1038, in __init__\n",
      "    self._execute_child(args, executable, preexec_fn, close_fds,\n",
      "    ~~~~~~~~~~~~~~~~~~~^^^^^^^^^^^^^^^^^^^^^^^^^^^^^^^^^^^^^^^^^\n",
      "                        pass_fds, cwd, env,\n",
      "                        ^^^^^^^^^^^^^^^^^^^\n",
      "    ...<5 lines>...\n",
      "                        gid, gids, uid, umask,\n",
      "                        ^^^^^^^^^^^^^^^^^^^^^^\n",
      "                        start_new_session, process_group)\n",
      "                        ^^^^^^^^^^^^^^^^^^^^^^^^^^^^^^^^^\n",
      "  File \"C:\\Users\\utkar\\AppData\\Local\\Programs\\Python\\Python313\\Lib\\subprocess.py\", line 1550, in _execute_child\n",
      "    hp, ht, pid, tid = _winapi.CreateProcess(executable, args,\n",
      "                       ~~~~~~~~~~~~~~~~~~~~~^^^^^^^^^^^^^^^^^^\n",
      "                             # no special security\n",
      "                             ^^^^^^^^^^^^^^^^^^^^^\n",
      "    ...<4 lines>...\n",
      "                             cwd,\n",
      "                             ^^^^\n",
      "                             startupinfo)\n",
      "                             ^^^^^^^^^^^^\n",
      "🏁 District Progress:  17%|█▋        | 5/30 [13:19<1:01:12, 146.90s/it]"
     ]
    },
    {
     "name": "stdout",
     "output_type": "stream",
     "text": [
      "✅ Saved: C:\\Users\\utkar\\OneDrive\\Desktop\\ClimateXTelemedicine Odisha\\Odisha_VScode\\.venv\\Final_version\\Ouptuts\\chc\\bhadrak_village_to_chc.csv (1321 records)\n",
      "\n",
      "🔁 Routing HSC for boudh using k-NN + OSRM strategy...\n",
      "✅ Saved: C:\\Users\\utkar\\OneDrive\\Desktop\\ClimateXTelemedicine Odisha\\Odisha_VScode\\.venv\\Final_version\\Ouptuts\\hsc\\boudh_village_to_hsc.csv (1188 records)\n",
      "\n",
      "🔁 Routing PHC for boudh using k-NN + OSRM strategy...\n",
      "✅ Saved: C:\\Users\\utkar\\OneDrive\\Desktop\\ClimateXTelemedicine Odisha\\Odisha_VScode\\.venv\\Final_version\\Ouptuts\\phc\\boudh_village_to_phc.csv (1188 records)\n",
      "\n",
      "🔁 Routing CHC for boudh using k-NN + OSRM strategy...\n"
     ]
    },
    {
     "name": "stderr",
     "output_type": "stream",
     "text": [
      "🏁 District Progress:  20%|██        | 6/30 [15:01<52:39, 131.63s/it]  "
     ]
    },
    {
     "name": "stdout",
     "output_type": "stream",
     "text": [
      "✅ Saved: C:\\Users\\utkar\\OneDrive\\Desktop\\ClimateXTelemedicine Odisha\\Odisha_VScode\\.venv\\Final_version\\Ouptuts\\chc\\boudh_village_to_chc.csv (1188 records)\n",
      "\n",
      "🔁 Routing HSC for cuttack using k-NN + OSRM strategy...\n",
      "✅ Saved: C:\\Users\\utkar\\OneDrive\\Desktop\\ClimateXTelemedicine Odisha\\Odisha_VScode\\.venv\\Final_version\\Ouptuts\\hsc\\cuttack_village_to_hsc.csv (1961 records)\n",
      "\n",
      "🔁 Routing PHC for cuttack using k-NN + OSRM strategy...\n",
      "✅ Saved: C:\\Users\\utkar\\OneDrive\\Desktop\\ClimateXTelemedicine Odisha\\Odisha_VScode\\.venv\\Final_version\\Ouptuts\\phc\\cuttack_village_to_phc.csv (1961 records)\n",
      "\n",
      "🔁 Routing CHC for cuttack using k-NN + OSRM strategy...\n"
     ]
    },
    {
     "name": "stderr",
     "output_type": "stream",
     "text": [
      "🏁 District Progress:  23%|██▎       | 7/30 [17:27<52:09, 136.08s/it]"
     ]
    },
    {
     "name": "stdout",
     "output_type": "stream",
     "text": [
      "✅ Saved: C:\\Users\\utkar\\OneDrive\\Desktop\\ClimateXTelemedicine Odisha\\Odisha_VScode\\.venv\\Final_version\\Ouptuts\\chc\\cuttack_village_to_chc.csv (1961 records)\n",
      "\n",
      "🔁 Routing HSC for deogarh using k-NN + OSRM strategy...\n",
      "✅ Saved: C:\\Users\\utkar\\OneDrive\\Desktop\\ClimateXTelemedicine Odisha\\Odisha_VScode\\.venv\\Final_version\\Ouptuts\\hsc\\deogarh_village_to_hsc.csv (879 records)\n",
      "\n",
      "🔁 Routing PHC for deogarh using k-NN + OSRM strategy...\n",
      "✅ Saved: C:\\Users\\utkar\\OneDrive\\Desktop\\ClimateXTelemedicine Odisha\\Odisha_VScode\\.venv\\Final_version\\Ouptuts\\phc\\deogarh_village_to_phc.csv (879 records)\n",
      "\n",
      "🔁 Routing CHC for deogarh using k-NN + OSRM strategy...\n"
     ]
    },
    {
     "name": "stderr",
     "output_type": "stream",
     "text": [
      "🏁 District Progress:  27%|██▋       | 8/30 [18:46<43:17, 118.05s/it]"
     ]
    },
    {
     "name": "stdout",
     "output_type": "stream",
     "text": [
      "✅ Saved: C:\\Users\\utkar\\OneDrive\\Desktop\\ClimateXTelemedicine Odisha\\Odisha_VScode\\.venv\\Final_version\\Ouptuts\\chc\\deogarh_village_to_chc.csv (879 records)\n",
      "\n",
      "🔁 Routing HSC for dhenkanal using k-NN + OSRM strategy...\n",
      "✅ Saved: C:\\Users\\utkar\\OneDrive\\Desktop\\ClimateXTelemedicine Odisha\\Odisha_VScode\\.venv\\Final_version\\Ouptuts\\hsc\\dhenkanal_village_to_hsc.csv (1213 records)\n",
      "\n",
      "🔁 Routing PHC for dhenkanal using k-NN + OSRM strategy...\n",
      "✅ Saved: C:\\Users\\utkar\\OneDrive\\Desktop\\ClimateXTelemedicine Odisha\\Odisha_VScode\\.venv\\Final_version\\Ouptuts\\phc\\dhenkanal_village_to_phc.csv (1213 records)\n",
      "\n",
      "🔁 Routing CHC for dhenkanal using k-NN + OSRM strategy...\n"
     ]
    },
    {
     "name": "stderr",
     "output_type": "stream",
     "text": [
      "🏁 District Progress:  30%|███       | 9/30 [20:21<38:44, 110.68s/it]"
     ]
    },
    {
     "name": "stdout",
     "output_type": "stream",
     "text": [
      "✅ Saved: C:\\Users\\utkar\\OneDrive\\Desktop\\ClimateXTelemedicine Odisha\\Odisha_VScode\\.venv\\Final_version\\Ouptuts\\chc\\dhenkanal_village_to_chc.csv (1213 records)\n",
      "\n",
      "🔁 Routing HSC for gajapati using k-NN + OSRM strategy...\n",
      "✅ Saved: C:\\Users\\utkar\\OneDrive\\Desktop\\ClimateXTelemedicine Odisha\\Odisha_VScode\\.venv\\Final_version\\Ouptuts\\hsc\\gajapati_village_to_hsc.csv (1618 records)\n",
      "\n",
      "🔁 Routing PHC for gajapati using k-NN + OSRM strategy...\n",
      "✅ Saved: C:\\Users\\utkar\\OneDrive\\Desktop\\ClimateXTelemedicine Odisha\\Odisha_VScode\\.venv\\Final_version\\Ouptuts\\phc\\gajapati_village_to_phc.csv (1618 records)\n",
      "\n",
      "🔁 Routing CHC for gajapati using k-NN + OSRM strategy...\n"
     ]
    },
    {
     "name": "stderr",
     "output_type": "stream",
     "text": [
      "🏁 District Progress:  33%|███▎      | 10/30 [22:30<38:51, 116.56s/it]"
     ]
    },
    {
     "name": "stdout",
     "output_type": "stream",
     "text": [
      "✅ Saved: C:\\Users\\utkar\\OneDrive\\Desktop\\ClimateXTelemedicine Odisha\\Odisha_VScode\\.venv\\Final_version\\Ouptuts\\chc\\gajapati_village_to_chc.csv (1618 records)\n",
      "\n",
      "🔁 Routing HSC for ganjam using k-NN + OSRM strategy...\n",
      "✅ Saved: C:\\Users\\utkar\\OneDrive\\Desktop\\ClimateXTelemedicine Odisha\\Odisha_VScode\\.venv\\Final_version\\Ouptuts\\hsc\\ganjam_village_to_hsc.csv (3233 records)\n",
      "\n",
      "🔁 Routing PHC for ganjam using k-NN + OSRM strategy...\n",
      "✅ Saved: C:\\Users\\utkar\\OneDrive\\Desktop\\ClimateXTelemedicine Odisha\\Odisha_VScode\\.venv\\Final_version\\Ouptuts\\phc\\ganjam_village_to_phc.csv (3233 records)\n",
      "\n",
      "🔁 Routing CHC for ganjam using k-NN + OSRM strategy...\n"
     ]
    },
    {
     "name": "stderr",
     "output_type": "stream",
     "text": [
      "🏁 District Progress:  37%|███▋      | 11/30 [26:33<49:10, 155.31s/it]"
     ]
    },
    {
     "name": "stdout",
     "output_type": "stream",
     "text": [
      "✅ Saved: C:\\Users\\utkar\\OneDrive\\Desktop\\ClimateXTelemedicine Odisha\\Odisha_VScode\\.venv\\Final_version\\Ouptuts\\chc\\ganjam_village_to_chc.csv (3233 records)\n",
      "\n",
      "🔁 Routing HSC for jagatsinghapur using k-NN + OSRM strategy...\n",
      "✅ Saved: C:\\Users\\utkar\\OneDrive\\Desktop\\ClimateXTelemedicine Odisha\\Odisha_VScode\\.venv\\Final_version\\Ouptuts\\hsc\\jagatsinghapur_village_to_hsc.csv (1296 records)\n",
      "\n",
      "🔁 Routing PHC for jagatsinghapur using k-NN + OSRM strategy...\n",
      "✅ Saved: C:\\Users\\utkar\\OneDrive\\Desktop\\ClimateXTelemedicine Odisha\\Odisha_VScode\\.venv\\Final_version\\Ouptuts\\phc\\jagatsinghapur_village_to_phc.csv (1296 records)\n",
      "\n",
      "🔁 Routing CHC for jagatsinghapur using k-NN + OSRM strategy...\n"
     ]
    },
    {
     "name": "stderr",
     "output_type": "stream",
     "text": [
      "🏁 District Progress:  40%|████      | 12/30 [28:29<42:55, 143.09s/it]"
     ]
    },
    {
     "name": "stdout",
     "output_type": "stream",
     "text": [
      "✅ Saved: C:\\Users\\utkar\\OneDrive\\Desktop\\ClimateXTelemedicine Odisha\\Odisha_VScode\\.venv\\Final_version\\Ouptuts\\chc\\jagatsinghapur_village_to_chc.csv (1296 records)\n",
      "\n",
      "🔁 Routing HSC for jajapur using k-NN + OSRM strategy...\n",
      "✅ Saved: C:\\Users\\utkar\\OneDrive\\Desktop\\ClimateXTelemedicine Odisha\\Odisha_VScode\\.venv\\Final_version\\Ouptuts\\hsc\\jajapur_village_to_hsc.csv (1794 records)\n",
      "\n",
      "🔁 Routing PHC for jajapur using k-NN + OSRM strategy...\n",
      "✅ Saved: C:\\Users\\utkar\\OneDrive\\Desktop\\ClimateXTelemedicine Odisha\\Odisha_VScode\\.venv\\Final_version\\Ouptuts\\phc\\jajapur_village_to_phc.csv (1794 records)\n",
      "\n",
      "🔁 Routing CHC for jajapur using k-NN + OSRM strategy...\n"
     ]
    },
    {
     "name": "stderr",
     "output_type": "stream",
     "text": [
      "🏁 District Progress:  43%|████▎     | 13/30 [30:39<39:26, 139.23s/it]"
     ]
    },
    {
     "name": "stdout",
     "output_type": "stream",
     "text": [
      "✅ Saved: C:\\Users\\utkar\\OneDrive\\Desktop\\ClimateXTelemedicine Odisha\\Odisha_VScode\\.venv\\Final_version\\Ouptuts\\chc\\jajapur_village_to_chc.csv (1794 records)\n",
      "\n",
      "🔁 Routing HSC for jharsuguda using k-NN + OSRM strategy...\n",
      "✅ Saved: C:\\Users\\utkar\\OneDrive\\Desktop\\ClimateXTelemedicine Odisha\\Odisha_VScode\\.venv\\Final_version\\Ouptuts\\hsc\\jharsuguda_village_to_hsc.csv (356 records)\n",
      "\n",
      "🔁 Routing PHC for jharsuguda using k-NN + OSRM strategy...\n",
      "✅ Saved: C:\\Users\\utkar\\OneDrive\\Desktop\\ClimateXTelemedicine Odisha\\Odisha_VScode\\.venv\\Final_version\\Ouptuts\\phc\\jharsuguda_village_to_phc.csv (356 records)\n",
      "\n",
      "🔁 Routing CHC for jharsuguda using k-NN + OSRM strategy...\n"
     ]
    },
    {
     "name": "stderr",
     "output_type": "stream",
     "text": [
      "🏁 District Progress:  47%|████▋     | 14/30 [31:11<28:28, 106.77s/it]"
     ]
    },
    {
     "name": "stdout",
     "output_type": "stream",
     "text": [
      "✅ Saved: C:\\Users\\utkar\\OneDrive\\Desktop\\ClimateXTelemedicine Odisha\\Odisha_VScode\\.venv\\Final_version\\Ouptuts\\chc\\jharsuguda_village_to_chc.csv (356 records)\n",
      "\n",
      "🔁 Routing HSC for kalahandi using k-NN + OSRM strategy...\n",
      "✅ Saved: C:\\Users\\utkar\\OneDrive\\Desktop\\ClimateXTelemedicine Odisha\\Odisha_VScode\\.venv\\Final_version\\Ouptuts\\hsc\\kalahandi_village_to_hsc.csv (2258 records)\n",
      "\n",
      "🔁 Routing PHC for kalahandi using k-NN + OSRM strategy...\n",
      "✅ Saved: C:\\Users\\utkar\\OneDrive\\Desktop\\ClimateXTelemedicine Odisha\\Odisha_VScode\\.venv\\Final_version\\Ouptuts\\phc\\kalahandi_village_to_phc.csv (2258 records)\n",
      "\n",
      "🔁 Routing CHC for kalahandi using k-NN + OSRM strategy...\n"
     ]
    },
    {
     "name": "stderr",
     "output_type": "stream",
     "text": [
      "🏁 District Progress:  50%|█████     | 15/30 [34:01<31:30, 126.02s/it]"
     ]
    },
    {
     "name": "stdout",
     "output_type": "stream",
     "text": [
      "✅ Saved: C:\\Users\\utkar\\OneDrive\\Desktop\\ClimateXTelemedicine Odisha\\Odisha_VScode\\.venv\\Final_version\\Ouptuts\\chc\\kalahandi_village_to_chc.csv (2258 records)\n",
      "\n",
      "🔁 Routing HSC for kandhamal using k-NN + OSRM strategy...\n",
      "✅ Saved: C:\\Users\\utkar\\OneDrive\\Desktop\\ClimateXTelemedicine Odisha\\Odisha_VScode\\.venv\\Final_version\\Ouptuts\\hsc\\kandhamal_village_to_hsc.csv (2591 records)\n",
      "\n",
      "🔁 Routing PHC for kandhamal using k-NN + OSRM strategy...\n",
      "✅ Saved: C:\\Users\\utkar\\OneDrive\\Desktop\\ClimateXTelemedicine Odisha\\Odisha_VScode\\.venv\\Final_version\\Ouptuts\\phc\\kandhamal_village_to_phc.csv (2591 records)\n",
      "\n",
      "🔁 Routing CHC for kandhamal using k-NN + OSRM strategy...\n"
     ]
    },
    {
     "name": "stderr",
     "output_type": "stream",
     "text": [
      "🏁 District Progress:  53%|█████▎    | 16/30 [37:12<33:55, 145.39s/it]"
     ]
    },
    {
     "name": "stdout",
     "output_type": "stream",
     "text": [
      "✅ Saved: C:\\Users\\utkar\\OneDrive\\Desktop\\ClimateXTelemedicine Odisha\\Odisha_VScode\\.venv\\Final_version\\Ouptuts\\chc\\kandhamal_village_to_chc.csv (2591 records)\n",
      "\n",
      "🔁 Routing HSC for kendrapara using k-NN + OSRM strategy...\n",
      "✅ Saved: C:\\Users\\utkar\\OneDrive\\Desktop\\ClimateXTelemedicine Odisha\\Odisha_VScode\\.venv\\Final_version\\Ouptuts\\hsc\\kendrapara_village_to_hsc.csv (1549 records)\n",
      "\n",
      "🔁 Routing PHC for kendrapara using k-NN + OSRM strategy...\n",
      "✅ Saved: C:\\Users\\utkar\\OneDrive\\Desktop\\ClimateXTelemedicine Odisha\\Odisha_VScode\\.venv\\Final_version\\Ouptuts\\phc\\kendrapara_village_to_phc.csv (1549 records)\n",
      "\n",
      "🔁 Routing CHC for kendrapara using k-NN + OSRM strategy...\n"
     ]
    },
    {
     "name": "stderr",
     "output_type": "stream",
     "text": [
      "🏁 District Progress:  57%|█████▋    | 17/30 [39:26<30:45, 141.95s/it]"
     ]
    },
    {
     "name": "stdout",
     "output_type": "stream",
     "text": [
      "✅ Saved: C:\\Users\\utkar\\OneDrive\\Desktop\\ClimateXTelemedicine Odisha\\Odisha_VScode\\.venv\\Final_version\\Ouptuts\\chc\\kendrapara_village_to_chc.csv (1549 records)\n",
      "\n",
      "🔁 Routing HSC for kendujhar using k-NN + OSRM strategy...\n",
      "✅ Saved: C:\\Users\\utkar\\OneDrive\\Desktop\\ClimateXTelemedicine Odisha\\Odisha_VScode\\.venv\\Final_version\\Ouptuts\\hsc\\kendujhar_village_to_hsc.csv (2132 records)\n",
      "\n",
      "🔁 Routing PHC for kendujhar using k-NN + OSRM strategy...\n",
      "✅ Saved: C:\\Users\\utkar\\OneDrive\\Desktop\\ClimateXTelemedicine Odisha\\Odisha_VScode\\.venv\\Final_version\\Ouptuts\\phc\\kendujhar_village_to_phc.csv (2132 records)\n",
      "\n",
      "🔁 Routing CHC for kendujhar using k-NN + OSRM strategy...\n"
     ]
    },
    {
     "name": "stderr",
     "output_type": "stream",
     "text": [
      "🏁 District Progress:  60%|██████    | 18/30 [42:04<29:21, 146.76s/it]"
     ]
    },
    {
     "name": "stdout",
     "output_type": "stream",
     "text": [
      "✅ Saved: C:\\Users\\utkar\\OneDrive\\Desktop\\ClimateXTelemedicine Odisha\\Odisha_VScode\\.venv\\Final_version\\Ouptuts\\chc\\kendujhar_village_to_chc.csv (2132 records)\n",
      "\n",
      "🔁 Routing HSC for khordha using k-NN + OSRM strategy...\n",
      "✅ Saved: C:\\Users\\utkar\\OneDrive\\Desktop\\ClimateXTelemedicine Odisha\\Odisha_VScode\\.venv\\Final_version\\Ouptuts\\hsc\\khordha_village_to_hsc.csv (1562 records)\n",
      "\n",
      "🔁 Routing PHC for khordha using k-NN + OSRM strategy...\n",
      "✅ Saved: C:\\Users\\utkar\\OneDrive\\Desktop\\ClimateXTelemedicine Odisha\\Odisha_VScode\\.venv\\Final_version\\Ouptuts\\phc\\khordha_village_to_phc.csv (1562 records)\n",
      "\n",
      "🔁 Routing CHC for khordha using k-NN + OSRM strategy...\n"
     ]
    },
    {
     "name": "stderr",
     "output_type": "stream",
     "text": [
      "🏁 District Progress:  63%|██████▎   | 19/30 [43:59<25:09, 137.25s/it]"
     ]
    },
    {
     "name": "stdout",
     "output_type": "stream",
     "text": [
      "✅ Saved: C:\\Users\\utkar\\OneDrive\\Desktop\\ClimateXTelemedicine Odisha\\Odisha_VScode\\.venv\\Final_version\\Ouptuts\\chc\\khordha_village_to_chc.csv (1562 records)\n",
      "\n",
      "🔁 Routing HSC for koraput using k-NN + OSRM strategy...\n",
      "✅ Saved: C:\\Users\\utkar\\OneDrive\\Desktop\\ClimateXTelemedicine Odisha\\Odisha_VScode\\.venv\\Final_version\\Ouptuts\\hsc\\koraput_village_to_hsc.csv (2030 records)\n",
      "\n",
      "🔁 Routing PHC for koraput using k-NN + OSRM strategy...\n",
      "✅ Saved: C:\\Users\\utkar\\OneDrive\\Desktop\\ClimateXTelemedicine Odisha\\Odisha_VScode\\.venv\\Final_version\\Ouptuts\\phc\\koraput_village_to_phc.csv (2030 records)\n",
      "\n",
      "🔁 Routing CHC for koraput using k-NN + OSRM strategy...\n"
     ]
    },
    {
     "name": "stderr",
     "output_type": "stream",
     "text": [
      "🏁 District Progress:  67%|██████▋   | 20/30 [46:34<23:46, 142.64s/it]"
     ]
    },
    {
     "name": "stdout",
     "output_type": "stream",
     "text": [
      "✅ Saved: C:\\Users\\utkar\\OneDrive\\Desktop\\ClimateXTelemedicine Odisha\\Odisha_VScode\\.venv\\Final_version\\Ouptuts\\chc\\koraput_village_to_chc.csv (2030 records)\n",
      "\n",
      "🔁 Routing HSC for malkangiri using k-NN + OSRM strategy...\n",
      "✅ Saved: C:\\Users\\utkar\\OneDrive\\Desktop\\ClimateXTelemedicine Odisha\\Odisha_VScode\\.venv\\Final_version\\Ouptuts\\hsc\\malkangiri_village_to_hsc.csv (973 records)\n",
      "\n",
      "🔁 Routing PHC for malkangiri using k-NN + OSRM strategy...\n",
      "✅ Saved: C:\\Users\\utkar\\OneDrive\\Desktop\\ClimateXTelemedicine Odisha\\Odisha_VScode\\.venv\\Final_version\\Ouptuts\\phc\\malkangiri_village_to_phc.csv (973 records)\n",
      "\n",
      "🔁 Routing CHC for malkangiri using k-NN + OSRM strategy...\n"
     ]
    },
    {
     "name": "stderr",
     "output_type": "stream",
     "text": [
      "🏁 District Progress:  70%|███████   | 21/30 [47:50<18:25, 122.82s/it]"
     ]
    },
    {
     "name": "stdout",
     "output_type": "stream",
     "text": [
      "✅ Saved: C:\\Users\\utkar\\OneDrive\\Desktop\\ClimateXTelemedicine Odisha\\Odisha_VScode\\.venv\\Final_version\\Ouptuts\\chc\\malkangiri_village_to_chc.csv (973 records)\n",
      "\n",
      "🔁 Routing HSC for mayurbhanj using k-NN + OSRM strategy...\n",
      "✅ Saved: C:\\Users\\utkar\\OneDrive\\Desktop\\ClimateXTelemedicine Odisha\\Odisha_VScode\\.venv\\Final_version\\Ouptuts\\hsc\\mayurbhanj_village_to_hsc.csv (3970 records)\n",
      "\n",
      "🔁 Routing PHC for mayurbhanj using k-NN + OSRM strategy...\n",
      "✅ Saved: C:\\Users\\utkar\\OneDrive\\Desktop\\ClimateXTelemedicine Odisha\\Odisha_VScode\\.venv\\Final_version\\Ouptuts\\phc\\mayurbhanj_village_to_phc.csv (3970 records)\n",
      "\n",
      "🔁 Routing CHC for mayurbhanj using k-NN + OSRM strategy...\n"
     ]
    },
    {
     "name": "stderr",
     "output_type": "stream",
     "text": [
      "🏁 District Progress:  73%|███████▎  | 22/30 [52:39<23:00, 172.61s/it]"
     ]
    },
    {
     "name": "stdout",
     "output_type": "stream",
     "text": [
      "✅ Saved: C:\\Users\\utkar\\OneDrive\\Desktop\\ClimateXTelemedicine Odisha\\Odisha_VScode\\.venv\\Final_version\\Ouptuts\\chc\\mayurbhanj_village_to_chc.csv (3970 records)\n",
      "\n",
      "🔁 Routing HSC for nabarangpur using k-NN + OSRM strategy...\n",
      "✅ Saved: C:\\Users\\utkar\\OneDrive\\Desktop\\ClimateXTelemedicine Odisha\\Odisha_VScode\\.venv\\Final_version\\Ouptuts\\hsc\\nabarangpur_village_to_hsc.csv (892 records)\n",
      "\n",
      "🔁 Routing PHC for nabarangpur using k-NN + OSRM strategy...\n",
      "✅ Saved: C:\\Users\\utkar\\OneDrive\\Desktop\\ClimateXTelemedicine Odisha\\Odisha_VScode\\.venv\\Final_version\\Ouptuts\\phc\\nabarangpur_village_to_phc.csv (892 records)\n",
      "\n",
      "🔁 Routing CHC for nabarangpur using k-NN + OSRM strategy...\n"
     ]
    },
    {
     "name": "stderr",
     "output_type": "stream",
     "text": [
      "🏁 District Progress:  77%|███████▋  | 23/30 [53:46<16:26, 140.94s/it]"
     ]
    },
    {
     "name": "stdout",
     "output_type": "stream",
     "text": [
      "✅ Saved: C:\\Users\\utkar\\OneDrive\\Desktop\\ClimateXTelemedicine Odisha\\Odisha_VScode\\.venv\\Final_version\\Ouptuts\\chc\\nabarangpur_village_to_chc.csv (892 records)\n",
      "\n",
      "🔁 Routing HSC for nayagarh using k-NN + OSRM strategy...\n",
      "✅ Saved: C:\\Users\\utkar\\OneDrive\\Desktop\\ClimateXTelemedicine Odisha\\Odisha_VScode\\.venv\\Final_version\\Ouptuts\\hsc\\nayagarh_village_to_hsc.csv (1701 records)\n",
      "\n",
      "🔁 Routing PHC for nayagarh using k-NN + OSRM strategy...\n",
      "✅ Saved: C:\\Users\\utkar\\OneDrive\\Desktop\\ClimateXTelemedicine Odisha\\Odisha_VScode\\.venv\\Final_version\\Ouptuts\\phc\\nayagarh_village_to_phc.csv (1701 records)\n",
      "\n",
      "🔁 Routing CHC for nayagarh using k-NN + OSRM strategy...\n"
     ]
    },
    {
     "name": "stderr",
     "output_type": "stream",
     "text": [
      "🏁 District Progress:  80%|████████  | 24/30 [55:55<13:43, 137.21s/it]"
     ]
    },
    {
     "name": "stdout",
     "output_type": "stream",
     "text": [
      "✅ Saved: C:\\Users\\utkar\\OneDrive\\Desktop\\ClimateXTelemedicine Odisha\\Odisha_VScode\\.venv\\Final_version\\Ouptuts\\chc\\nayagarh_village_to_chc.csv (1701 records)\n",
      "\n",
      "🔁 Routing HSC for nuapada using k-NN + OSRM strategy...\n",
      "✅ Saved: C:\\Users\\utkar\\OneDrive\\Desktop\\ClimateXTelemedicine Odisha\\Odisha_VScode\\.venv\\Final_version\\Ouptuts\\hsc\\nuapada_village_to_hsc.csv (670 records)\n",
      "\n",
      "🔁 Routing PHC for nuapada using k-NN + OSRM strategy...\n",
      "✅ Saved: C:\\Users\\utkar\\OneDrive\\Desktop\\ClimateXTelemedicine Odisha\\Odisha_VScode\\.venv\\Final_version\\Ouptuts\\phc\\nuapada_village_to_phc.csv (670 records)\n",
      "\n",
      "🔁 Routing CHC for nuapada using k-NN + OSRM strategy...\n"
     ]
    },
    {
     "name": "stderr",
     "output_type": "stream",
     "text": [
      "🏁 District Progress:  83%|████████▎ | 25/30 [56:46<09:17, 111.50s/it]"
     ]
    },
    {
     "name": "stdout",
     "output_type": "stream",
     "text": [
      "✅ Saved: C:\\Users\\utkar\\OneDrive\\Desktop\\ClimateXTelemedicine Odisha\\Odisha_VScode\\.venv\\Final_version\\Ouptuts\\chc\\nuapada_village_to_chc.csv (670 records)\n",
      "\n",
      "🔁 Routing HSC for puri using k-NN + OSRM strategy...\n",
      "✅ Saved: C:\\Users\\utkar\\OneDrive\\Desktop\\ClimateXTelemedicine Odisha\\Odisha_VScode\\.venv\\Final_version\\Ouptuts\\hsc\\puri_village_to_hsc.csv (1713 records)\n",
      "\n",
      "🔁 Routing PHC for puri using k-NN + OSRM strategy...\n",
      "✅ Saved: C:\\Users\\utkar\\OneDrive\\Desktop\\ClimateXTelemedicine Odisha\\Odisha_VScode\\.venv\\Final_version\\Ouptuts\\phc\\puri_village_to_phc.csv (1713 records)\n",
      "\n",
      "🔁 Routing CHC for puri using k-NN + OSRM strategy...\n"
     ]
    },
    {
     "name": "stderr",
     "output_type": "stream",
     "text": [
      "🏁 District Progress:  87%|████████▋ | 26/30 [59:06<07:59, 119.92s/it]"
     ]
    },
    {
     "name": "stdout",
     "output_type": "stream",
     "text": [
      "✅ Saved: C:\\Users\\utkar\\OneDrive\\Desktop\\ClimateXTelemedicine Odisha\\Odisha_VScode\\.venv\\Final_version\\Ouptuts\\chc\\puri_village_to_chc.csv (1713 records)\n",
      "\n",
      "🔁 Routing HSC for rayagada using k-NN + OSRM strategy...\n",
      "✅ Saved: C:\\Users\\utkar\\OneDrive\\Desktop\\ClimateXTelemedicine Odisha\\Odisha_VScode\\.venv\\Final_version\\Ouptuts\\hsc\\rayagada_village_to_hsc.csv (2673 records)\n",
      "\n",
      "🔁 Routing PHC for rayagada using k-NN + OSRM strategy...\n",
      "✅ Saved: C:\\Users\\utkar\\OneDrive\\Desktop\\ClimateXTelemedicine Odisha\\Odisha_VScode\\.venv\\Final_version\\Ouptuts\\phc\\rayagada_village_to_phc.csv (2673 records)\n",
      "\n",
      "🔁 Routing CHC for rayagada using k-NN + OSRM strategy...\n",
      "⚠️ No valid route for village 427192.0\n",
      "⚠️ No valid route for village 427191.0\n",
      "⚠️ No valid route for village 427190.0\n",
      "⚠️ No valid route for village 427185.0\n",
      "⚠️ No valid route for village 427177.0\n",
      "⚠️ No valid route for village 427186.0\n",
      "⚠️ No valid route for village 427159.0\n",
      "⚠️ No valid route for village 427175.0\n",
      "⚠️ No valid route for village 427158.0\n",
      "⚠️ No valid route for village 427176.0\n",
      "⚠️ No valid route for village 427193.0\n",
      "⚠️ No valid route for village 427195.0\n",
      "⚠️ No valid route for village 427194.0\n",
      "⚠️ No valid route for village 427189.0\n",
      "⚠️ No valid route for village 427166.0\n",
      "⚠️ No valid route for village 427169.0\n",
      "⚠️ No valid route for village 427171.0\n",
      "⚠️ No valid route for village 427170.0\n",
      "⚠️ No valid route for village 427173.0\n",
      "⚠️ No valid route for village 427188.0\n",
      "⚠️ No valid route for village 427174.0\n",
      "⚠️ No valid route for village 427172.0\n",
      "⚠️ No valid route for village 427187.0\n",
      "⚠️ No valid route for village 427160.0\n",
      "⚠️ No valid route for village 427161.0\n",
      "⚠️ No valid route for village 427163.0\n",
      "⚠️ No valid route for village 427162.0\n",
      "⚠️ No valid route for village 427168.0\n",
      "⚠️ No valid route for village 427164.0\n",
      "⚠️ No valid route for village 427165.0\n",
      "⚠️ No valid route for village 427167.0\n"
     ]
    },
    {
     "name": "stderr",
     "output_type": "stream",
     "text": [
      "🏁 District Progress:  90%|█████████ | 27/30 [1:02:28<07:13, 144.45s/it]"
     ]
    },
    {
     "name": "stdout",
     "output_type": "stream",
     "text": [
      "✅ Saved: C:\\Users\\utkar\\OneDrive\\Desktop\\ClimateXTelemedicine Odisha\\Odisha_VScode\\.venv\\Final_version\\Ouptuts\\chc\\rayagada_village_to_chc.csv (2642 records)\n",
      "\n",
      "🔁 Routing HSC for sambalpur using k-NN + OSRM strategy...\n",
      "✅ Saved: C:\\Users\\utkar\\OneDrive\\Desktop\\ClimateXTelemedicine Odisha\\Odisha_VScode\\.venv\\Final_version\\Ouptuts\\hsc\\sambalpur_village_to_hsc.csv (1318 records)\n",
      "\n",
      "🔁 Routing PHC for sambalpur using k-NN + OSRM strategy...\n",
      "✅ Saved: C:\\Users\\utkar\\OneDrive\\Desktop\\ClimateXTelemedicine Odisha\\Odisha_VScode\\.venv\\Final_version\\Ouptuts\\phc\\sambalpur_village_to_phc.csv (1318 records)\n",
      "\n",
      "🔁 Routing CHC for sambalpur using k-NN + OSRM strategy...\n"
     ]
    },
    {
     "name": "stderr",
     "output_type": "stream",
     "text": [
      "🏁 District Progress:  93%|█████████▎| 28/30 [1:04:12<04:24, 132.37s/it]"
     ]
    },
    {
     "name": "stdout",
     "output_type": "stream",
     "text": [
      "✅ Saved: C:\\Users\\utkar\\OneDrive\\Desktop\\ClimateXTelemedicine Odisha\\Odisha_VScode\\.venv\\Final_version\\Ouptuts\\chc\\sambalpur_village_to_chc.csv (1318 records)\n",
      "\n",
      "🔁 Routing HSC for sonepur using k-NN + OSRM strategy...\n",
      "✅ Saved: C:\\Users\\utkar\\OneDrive\\Desktop\\ClimateXTelemedicine Odisha\\Odisha_VScode\\.venv\\Final_version\\Ouptuts\\hsc\\sonepur_village_to_hsc.csv (966 records)\n",
      "\n",
      "🔁 Routing PHC for sonepur using k-NN + OSRM strategy...\n",
      "✅ Saved: C:\\Users\\utkar\\OneDrive\\Desktop\\ClimateXTelemedicine Odisha\\Odisha_VScode\\.venv\\Final_version\\Ouptuts\\phc\\sonepur_village_to_phc.csv (966 records)\n",
      "\n",
      "🔁 Routing CHC for sonepur using k-NN + OSRM strategy...\n"
     ]
    },
    {
     "name": "stderr",
     "output_type": "stream",
     "text": [
      "🏁 District Progress:  97%|█████████▋| 29/30 [1:05:23<01:53, 113.99s/it]"
     ]
    },
    {
     "name": "stdout",
     "output_type": "stream",
     "text": [
      "✅ Saved: C:\\Users\\utkar\\OneDrive\\Desktop\\ClimateXTelemedicine Odisha\\Odisha_VScode\\.venv\\Final_version\\Ouptuts\\chc\\sonepur_village_to_chc.csv (966 records)\n",
      "\n",
      "🔁 Routing HSC for sundargarh using k-NN + OSRM strategy...\n",
      "✅ Saved: C:\\Users\\utkar\\OneDrive\\Desktop\\ClimateXTelemedicine Odisha\\Odisha_VScode\\.venv\\Final_version\\Ouptuts\\hsc\\sundargarh_village_to_hsc.csv (1776 records)\n",
      "\n",
      "🔁 Routing PHC for sundargarh using k-NN + OSRM strategy...\n",
      "✅ Saved: C:\\Users\\utkar\\OneDrive\\Desktop\\ClimateXTelemedicine Odisha\\Odisha_VScode\\.venv\\Final_version\\Ouptuts\\phc\\sundargarh_village_to_phc.csv (1776 records)\n",
      "\n",
      "🔁 Routing CHC for sundargarh using k-NN + OSRM strategy...\n"
     ]
    },
    {
     "name": "stderr",
     "output_type": "stream",
     "text": [
      "🏁 District Progress: 100%|██████████| 30/30 [1:07:51<00:00, 135.73s/it]"
     ]
    },
    {
     "name": "stdout",
     "output_type": "stream",
     "text": [
      "✅ Saved: C:\\Users\\utkar\\OneDrive\\Desktop\\ClimateXTelemedicine Odisha\\Odisha_VScode\\.venv\\Final_version\\Ouptuts\\chc\\sundargarh_village_to_chc.csv (1776 records)\n"
     ]
    },
    {
     "name": "stderr",
     "output_type": "stream",
     "text": [
      "\n"
     ]
    }
   ],
   "source": [
    "# ✅ Cell 3: Execute routing for all 30 districts and 3 facility types\n",
    "\n",
    "for district in tqdm(districts, desc=\"🏁 District Progress\"):\n",
    "    try:\n",
    "        # 📍 Load snapped village file\n",
    "        village_path = villages_root / f\"{district}_villages_snapped.geojson\"\n",
    "        if not village_path.exists():\n",
    "            print(f\"❌ Village file missing: {village_path}\")\n",
    "            continue\n",
    "        village_gdf = gpd.read_file(village_path)\n",
    "\n",
    "        # 📍 Load snapped facility file\n",
    "        facility_path = facilities_root / f\"{district}_facilities_snapped.geojson\"\n",
    "        if not facility_path.exists():\n",
    "            print(f\"❌ Facility file missing: {facility_path}\")\n",
    "            continue\n",
    "        facility_gdf = gpd.read_file(facility_path)\n",
    "\n",
    "        # 🔁 Route for each facility type\n",
    "        for facility_type in FACILITY_CONFIG.keys():\n",
    "            fac_filtered = facility_gdf[\n",
    "                facility_gdf[\"facility_type_standardized\"].str.lower() == facility_type\n",
    "            ].copy()\n",
    "\n",
    "            if fac_filtered.empty:\n",
    "                print(f\"⚠️ No facilities of type '{facility_type}' in {district}\")\n",
    "                continue\n",
    "\n",
    "            route_nearest_facility(\n",
    "                village_gdf=village_gdf,\n",
    "                facility_gdf=fac_filtered,\n",
    "                facility_type=facility_type,\n",
    "                district_name=district,\n",
    "                osrm_url=OSRM_URL,\n",
    "                output_dir=OUTPUT_BASE_DIR\n",
    "            )\n",
    "\n",
    "    except Exception as e:\n",
    "        print(f\"❌ Error processing district {district}: {e}\")"
   ]
  },
  {
   "cell_type": "code",
   "execution_count": 6,
   "id": "4772e115",
   "metadata": {},
   "outputs": [
    {
     "name": "stdout",
     "output_type": "stream",
     "text": [
      "🔁 Merging files for: HSC\n",
      "✅ Master file saved: C:\\Users\\utkar\\OneDrive\\Desktop\\ClimateXTelemedicine Odisha\\Odisha_VScode\\.venv\\Final_version\\Ouptuts\\hsc\\master_village_to_hsc.csv (51458 records)\n",
      "\n",
      "🔁 Merging files for: PHC\n",
      "✅ Master file saved: C:\\Users\\utkar\\OneDrive\\Desktop\\ClimateXTelemedicine Odisha\\Odisha_VScode\\.venv\\Final_version\\Ouptuts\\phc\\master_village_to_phc.csv (51464 records)\n",
      "\n",
      "🔁 Merging files for: CHC\n",
      "✅ Master file saved: C:\\Users\\utkar\\OneDrive\\Desktop\\ClimateXTelemedicine Odisha\\Odisha_VScode\\.venv\\Final_version\\Ouptuts\\chc\\master_village_to_chc.csv (51433 records)\n",
      "\n"
     ]
    }
   ],
   "source": [
    "import os\n",
    "import pandas as pd\n",
    "from glob import glob\n",
    "\n",
    "# === CONFIG ===\n",
    "base_dir = r\"C:\\Users\\utkar\\OneDrive\\Desktop\\ClimateXTelemedicine Odisha\\Odisha_VScode\\.venv\\Final_version\\Ouptuts\"\n",
    "facility_types = [\"hsc\", \"phc\", \"chc\"]\n",
    "districts_order = sorted([\n",
    "    \"anugul\", \"balangir\", \"baleshwar\", \"bargarh\", \"boudh\", \"bhadrak\",\n",
    "    \"cuttack\", \"deogarh\", \"dhenkanal\", \"gajapati\", \"ganjam\", \"jagatsinghapur\",\n",
    "    \"jajapur\", \"jharsuguda\", \"kalahandi\", \"kandhamal\", \"kendrapara\", \"kendujhar\",\n",
    "    \"khordha\", \"koraput\", \"malkangiri\", \"mayurbhanj\", \"nabarangpur\", \"nayagarh\",\n",
    "    \"nuapada\", \"puri\", \"rayagada\", \"sambalpur\", \"sonepur\", \"sundargarh\"\n",
    "])\n",
    "\n",
    "# === MERGE AND SAVE ===\n",
    "for f_type in facility_types:\n",
    "    print(f\"🔁 Merging files for: {f_type.upper()}\")\n",
    "    folder = os.path.join(base_dir, f_type)\n",
    "    all_files = glob(os.path.join(folder, \"*_village_to_*.csv\"))\n",
    "    \n",
    "    merged_df = pd.DataFrame()\n",
    "    for district in districts_order:\n",
    "        match_file = [f for f in all_files if f\"{district}_village_to_{f_type}\" in f]\n",
    "        if match_file:\n",
    "            df = pd.read_csv(match_file[0])\n",
    "            df[\"district\"] = district  # Add district column for clarity\n",
    "            merged_df = pd.concat([merged_df, df], ignore_index=True)\n",
    "        else:\n",
    "            print(f\"⚠️ Missing: {district} in {f_type}\")\n",
    "\n",
    "    # Save final merged file\n",
    "    out_path = os.path.join(folder, f\"master_village_to_{f_type}.csv\")\n",
    "    merged_df.to_csv(out_path, index=False)\n",
    "    print(f\"✅ Master file saved: {out_path} ({len(merged_df)} records)\\n\")"
   ]
  },
  {
   "cell_type": "code",
   "execution_count": 7,
   "id": "8c5c9d4e",
   "metadata": {},
   "outputs": [],
   "source": [
    "# =============================================================\n",
    "# 📝 NOTE FOR RESEARCH PAPER – MISSING ROUTING OUTPUTS\n",
    "# =============================================================\n",
    "# The following villages did not return valid OSRM routes \n",
    "# and must be documented as exceptions in the methodology:\n",
    "#\n",
    "# • 🔸 Baleshwar (HSC)\n",
    "#     - Missing route for village IDs: 391779.0, 391778.0\n",
    "#\n",
    "# • 🔸 Bhadrak (HSC)\n",
    "#     - Missing route for village IDs: 394890.0, 394781.0, \n",
    "#       394776.0, 394753.0\n",
    "#\n",
    "# • 🔸 Rayagada (CHC)\n",
    "#     - 30+ missing villages (IDs include: 427192.0 to 427158.0)\n",
    "#     - These are likely remote tribal villages disconnected \n",
    "#       from the road network or with geometry errors.\n",
    "#\n",
    "# 🔁 These should be:\n",
    "#     (1) Reported in the Data Limitations section\n",
    "#     (2) Cross-validated with snapped village layers\n",
    "#     (3) Flagged in maps as \"no access via motorable roads\"\n",
    "#     (4) Used to recommend Mobile Health Unit (MHU) deployment\n",
    "# ============================================================="
   ]
  }
 ],
 "metadata": {
  "kernelspec": {
   "display_name": ".venv",
   "language": "python",
   "name": "python3"
  },
  "language_info": {
   "codemirror_mode": {
    "name": "ipython",
    "version": 3
   },
   "file_extension": ".py",
   "mimetype": "text/x-python",
   "name": "python",
   "nbconvert_exporter": "python",
   "pygments_lexer": "ipython3",
   "version": "3.13.2"
  }
 },
 "nbformat": 4,
 "nbformat_minor": 5
}
