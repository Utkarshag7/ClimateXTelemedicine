{
 "cells": [
  {
   "cell_type": "code",
   "execution_count": 1,
   "id": "5f803df0",
   "metadata": {},
   "outputs": [
    {
     "name": "stdout",
     "output_type": "stream",
     "text": [
      "Requirement already satisfied: geopandas in c:\\users\\utkar\\onedrive\\desktop\\climatextelemedicine odisha\\odisha_vscode\\.venv\\lib\\site-packages (1.0.1)\n",
      "Requirement already satisfied: shapely in c:\\users\\utkar\\onedrive\\desktop\\climatextelemedicine odisha\\odisha_vscode\\.venv\\lib\\site-packages (2.1.0)\n",
      "Collecting rtree\n",
      "  Downloading rtree-1.4.0-py3-none-win_amd64.whl.metadata (2.1 kB)\n",
      "Requirement already satisfied: tqdm in c:\\users\\utkar\\onedrive\\desktop\\climatextelemedicine odisha\\odisha_vscode\\.venv\\lib\\site-packages (4.67.1)\n",
      "Requirement already satisfied: numpy>=1.22 in c:\\users\\utkar\\onedrive\\desktop\\climatextelemedicine odisha\\odisha_vscode\\.venv\\lib\\site-packages (from geopandas) (2.2.5)\n",
      "Requirement already satisfied: pyogrio>=0.7.2 in c:\\users\\utkar\\onedrive\\desktop\\climatextelemedicine odisha\\odisha_vscode\\.venv\\lib\\site-packages (from geopandas) (0.10.0)\n",
      "Requirement already satisfied: packaging in c:\\users\\utkar\\onedrive\\desktop\\climatextelemedicine odisha\\odisha_vscode\\.venv\\lib\\site-packages (from geopandas) (25.0)\n",
      "Requirement already satisfied: pandas>=1.4.0 in c:\\users\\utkar\\onedrive\\desktop\\climatextelemedicine odisha\\odisha_vscode\\.venv\\lib\\site-packages (from geopandas) (2.2.3)\n",
      "Requirement already satisfied: pyproj>=3.3.0 in c:\\users\\utkar\\onedrive\\desktop\\climatextelemedicine odisha\\odisha_vscode\\.venv\\lib\\site-packages (from geopandas) (3.7.1)\n",
      "Requirement already satisfied: colorama in c:\\users\\utkar\\onedrive\\desktop\\climatextelemedicine odisha\\odisha_vscode\\.venv\\lib\\site-packages (from tqdm) (0.4.6)\n",
      "Requirement already satisfied: python-dateutil>=2.8.2 in c:\\users\\utkar\\onedrive\\desktop\\climatextelemedicine odisha\\odisha_vscode\\.venv\\lib\\site-packages (from pandas>=1.4.0->geopandas) (2.9.0.post0)\n",
      "Requirement already satisfied: pytz>=2020.1 in c:\\users\\utkar\\onedrive\\desktop\\climatextelemedicine odisha\\odisha_vscode\\.venv\\lib\\site-packages (from pandas>=1.4.0->geopandas) (2025.2)\n",
      "Requirement already satisfied: tzdata>=2022.7 in c:\\users\\utkar\\onedrive\\desktop\\climatextelemedicine odisha\\odisha_vscode\\.venv\\lib\\site-packages (from pandas>=1.4.0->geopandas) (2025.2)\n",
      "Requirement already satisfied: certifi in c:\\users\\utkar\\onedrive\\desktop\\climatextelemedicine odisha\\odisha_vscode\\.venv\\lib\\site-packages (from pyogrio>=0.7.2->geopandas) (2025.1.31)\n",
      "Requirement already satisfied: six>=1.5 in c:\\users\\utkar\\onedrive\\desktop\\climatextelemedicine odisha\\odisha_vscode\\.venv\\lib\\site-packages (from python-dateutil>=2.8.2->pandas>=1.4.0->geopandas) (1.17.0)\n",
      "Downloading rtree-1.4.0-py3-none-win_amd64.whl (385 kB)\n",
      "Installing collected packages: rtree\n",
      "Successfully installed rtree-1.4.0\n",
      "Note: you may need to restart the kernel to use updated packages.\n"
     ]
    },
    {
     "name": "stderr",
     "output_type": "stream",
     "text": [
      "\n",
      "[notice] A new release of pip is available: 25.0.1 -> 25.1.1\n",
      "[notice] To update, run: python.exe -m pip install --upgrade pip\n"
     ]
    }
   ],
   "source": [
    "%pip install geopandas shapely rtree tqdm"
   ]
  },
  {
   "cell_type": "code",
   "execution_count": 3,
   "id": "53bc8d94",
   "metadata": {},
   "outputs": [
    {
     "name": "stdout",
     "output_type": "stream",
     "text": [
      "Requirement already satisfied: pip in c:\\users\\utkar\\onedrive\\desktop\\climatextelemedicine odisha\\odisha_vscode\\.venv\\lib\\site-packages (25.0.1)\n",
      "Collecting pip\n",
      "  Downloading pip-25.1.1-py3-none-any.whl.metadata (3.6 kB)\n",
      "Downloading pip-25.1.1-py3-none-any.whl (1.8 MB)\n",
      "   ---------------------------------------- 0.0/1.8 MB ? eta -:--:--\n",
      "   ---------------------------------------- 1.8/1.8 MB 19.4 MB/s eta 0:00:00\n",
      "Installing collected packages: pip\n",
      "  Attempting uninstall: pip\n",
      "    Found existing installation: pip 25.0.1\n",
      "    Uninstalling pip-25.0.1:\n",
      "      Successfully uninstalled pip-25.0.1\n",
      "Successfully installed pip-25.1.1\n",
      "Note: you may need to restart the kernel to use updated packages.\n"
     ]
    }
   ],
   "source": [
    " %pip install --upgrade pip"
   ]
  },
  {
   "cell_type": "code",
   "execution_count": 1,
   "id": "c16d731c",
   "metadata": {},
   "outputs": [],
   "source": [
    "import geopandas as gpd\n",
    "import pandas as pd\n",
    "import os\n",
    "from shapely.geometry import Point\n",
    "from tqdm import tqdm\n",
    "from scipy.spatial import cKDTree\n",
    "import numpy as np\n",
    "\n",
    "# === CONFIG ===\n",
    "FACILITY_FILE = r\"C:\\Users\\utkar\\OneDrive\\Desktop\\ClimateXTelemedicine Odisha\\Odisha_VScode\\.venv\\Final_version\\Data\\master_dataset_final.csv\"\n",
    "SNAPPED_VILLAGE_DIR = r\"C:\\Users\\utkar\\OneDrive\\Desktop\\ClimateXTelemedicine Odisha\\Odisha_VScode\\.venv\\Final_version\\Data\\snapped_villages_by_district\"\n",
    "OUTPUT_DIR = r\"C:\\Users\\utkar\\OneDrive\\Desktop\\ClimateXTelemedicine Odisha\\Odisha_VScode\\.venv\\Final_version\\Data\\snapped_facilities_by_district\"\n",
    "\n",
    "os.makedirs(OUTPUT_DIR, exist_ok=True)\n",
    "\n",
    "# === Load facilities\n",
    "facilities_df = pd.read_csv(FACILITY_FILE)\n",
    "districts = sorted(facilities_df[\"Districtname\"].dropna().str.lower().unique())"
   ]
  },
  {
   "cell_type": "code",
   "execution_count": 2,
   "id": "0f33d019",
   "metadata": {},
   "outputs": [],
   "source": [
    "def snap_facilities_to_nearest_road(village_path, facility_df, district_name):\n",
    "    # Load snapped village file for reference\n",
    "    village_gdf = gpd.read_file(village_path)\n",
    "    village_gdf = village_gdf.to_crs(epsg=4326)\n",
    "\n",
    "    # Prepare KD-Tree for fast nearest neighbor lookup\n",
    "    village_coords = np.array(list(zip(village_gdf.geometry.x, village_gdf.geometry.y)))\n",
    "    tree = cKDTree(village_coords)\n",
    "\n",
    "    # Filter facilities for this district\n",
    "    df = facility_df[facility_df[\"Districtname\"].str.lower() == district_name]\n",
    "    df = df.dropna(subset=[\"longitude\", \"latitude\", \"NIN\"])\n",
    "\n",
    "    snapped_rows = []\n",
    "\n",
    "    for _, row in tqdm(df.iterrows(), total=len(df), desc=f\"Snapping facilities in {district_name}\"):\n",
    "        point = (row[\"longitude\"], row[\"latitude\"])\n",
    "        dist, idx = tree.query(point)\n",
    "        snapped_point = village_coords[idx]\n",
    "        geom = Point(snapped_point)\n",
    "\n",
    "        row_data = row.to_dict()\n",
    "        row_data[\"snapped_lon\"] = snapped_point[0]\n",
    "        row_data[\"snapped_lat\"] = snapped_point[1]\n",
    "        row_data[\"geometry\"] = geom\n",
    "        snapped_rows.append(row_data)\n",
    "\n",
    "    snapped_gdf = gpd.GeoDataFrame(snapped_rows, geometry=\"geometry\", crs=\"EPSG:4326\")\n",
    "    return snapped_gdf"
   ]
  },
  {
   "cell_type": "code",
   "execution_count": 3,
   "id": "6b9608b9",
   "metadata": {},
   "outputs": [
    {
     "name": "stderr",
     "output_type": "stream",
     "text": [
      "Snapping facilities in anugul: 100%|██████████| 210/210 [00:00<00:00, 1076.25it/s]\n",
      "🔁 Snapping All Districts:   3%|▎         | 1/30 [00:01<00:43,  1.52s/it]"
     ]
    },
    {
     "name": "stdout",
     "output_type": "stream",
     "text": [
      "✅ Saved: C:\\Users\\utkar\\OneDrive\\Desktop\\ClimateXTelemedicine Odisha\\Odisha_VScode\\.venv\\Final_version\\Data\\snapped_facilities_by_district\\anugul_facilities_snapped.geojson\n"
     ]
    },
    {
     "name": "stderr",
     "output_type": "stream",
     "text": [
      "Snapping facilities in balangir: 100%|██████████| 286/286 [00:00<00:00, 1866.03it/s]\n",
      "🔁 Snapping All Districts:   7%|▋         | 2/30 [00:01<00:22,  1.23it/s]"
     ]
    },
    {
     "name": "stdout",
     "output_type": "stream",
     "text": [
      "✅ Saved: C:\\Users\\utkar\\OneDrive\\Desktop\\ClimateXTelemedicine Odisha\\Odisha_VScode\\.venv\\Final_version\\Data\\snapped_facilities_by_district\\balangir_facilities_snapped.geojson\n"
     ]
    },
    {
     "name": "stderr",
     "output_type": "stream",
     "text": [
      "Snapping facilities in baleshwar: 100%|██████████| 363/363 [00:00<00:00, 2213.71it/s]\n",
      "🔁 Snapping All Districts:  10%|█         | 3/30 [00:02<00:17,  1.58it/s]"
     ]
    },
    {
     "name": "stdout",
     "output_type": "stream",
     "text": [
      "✅ Saved: C:\\Users\\utkar\\OneDrive\\Desktop\\ClimateXTelemedicine Odisha\\Odisha_VScode\\.venv\\Final_version\\Data\\snapped_facilities_by_district\\baleshwar_facilities_snapped.geojson\n"
     ]
    },
    {
     "name": "stderr",
     "output_type": "stream",
     "text": [
      "Snapping facilities in bargarh: 100%|██████████| 266/266 [00:00<00:00, 1088.44it/s]\n",
      "🔁 Snapping All Districts:  13%|█▎        | 4/30 [00:02<00:14,  1.79it/s]"
     ]
    },
    {
     "name": "stdout",
     "output_type": "stream",
     "text": [
      "✅ Saved: C:\\Users\\utkar\\OneDrive\\Desktop\\ClimateXTelemedicine Odisha\\Odisha_VScode\\.venv\\Final_version\\Data\\snapped_facilities_by_district\\bargarh_facilities_snapped.geojson\n"
     ]
    },
    {
     "name": "stderr",
     "output_type": "stream",
     "text": [
      "Snapping facilities in bhadrak: 100%|██████████| 237/237 [00:00<00:00, 1025.28it/s]\n",
      "🔁 Snapping All Districts:  17%|█▋        | 5/30 [00:03<00:12,  1.96it/s]"
     ]
    },
    {
     "name": "stdout",
     "output_type": "stream",
     "text": [
      "✅ Saved: C:\\Users\\utkar\\OneDrive\\Desktop\\ClimateXTelemedicine Odisha\\Odisha_VScode\\.venv\\Final_version\\Data\\snapped_facilities_by_district\\bhadrak_facilities_snapped.geojson\n"
     ]
    },
    {
     "name": "stderr",
     "output_type": "stream",
     "text": [
      "Snapping facilities in boudh: 100%|██████████| 85/85 [00:00<00:00, 1402.93it/s]"
     ]
    },
    {
     "name": "stdout",
     "output_type": "stream",
     "text": [
      "✅ Saved: C:\\Users\\utkar\\OneDrive\\Desktop\\ClimateXTelemedicine Odisha\\Odisha_VScode\\.venv\\Final_version\\Data\\snapped_facilities_by_district\\boudh_facilities_snapped.geojson"
     ]
    },
    {
     "name": "stderr",
     "output_type": "stream",
     "text": [
      "\n",
      "🔁 Snapping All Districts:  20%|██        | 6/30 [00:03<00:09,  2.47it/s]"
     ]
    },
    {
     "name": "stdout",
     "output_type": "stream",
     "text": [
      "\n"
     ]
    },
    {
     "name": "stderr",
     "output_type": "stream",
     "text": [
      "Snapping facilities in cuttack: 100%|██████████| 412/412 [00:00<00:00, 2102.12it/s]\n",
      "🔁 Snapping All Districts:  23%|██▎       | 7/30 [00:03<00:09,  2.51it/s]"
     ]
    },
    {
     "name": "stdout",
     "output_type": "stream",
     "text": [
      "✅ Saved: C:\\Users\\utkar\\OneDrive\\Desktop\\ClimateXTelemedicine Odisha\\Odisha_VScode\\.venv\\Final_version\\Data\\snapped_facilities_by_district\\cuttack_facilities_snapped.geojson\n"
     ]
    },
    {
     "name": "stderr",
     "output_type": "stream",
     "text": [
      "Snapping facilities in deogarh: 100%|██████████| 54/54 [00:00<00:00, 1236.75it/s]\n",
      "🔁 Snapping All Districts:  27%|██▋       | 8/30 [00:03<00:07,  3.14it/s]"
     ]
    },
    {
     "name": "stdout",
     "output_type": "stream",
     "text": [
      "✅ Saved: C:\\Users\\utkar\\OneDrive\\Desktop\\ClimateXTelemedicine Odisha\\Odisha_VScode\\.venv\\Final_version\\Data\\snapped_facilities_by_district\\deogarh_facilities_snapped.geojson\n"
     ]
    },
    {
     "name": "stderr",
     "output_type": "stream",
     "text": [
      "Snapping facilities in dhenkanal: 100%|██████████| 212/212 [00:00<00:00, 1432.15it/s]\n",
      "🔁 Snapping All Districts:  30%|███       | 9/30 [00:04<00:06,  3.14it/s]"
     ]
    },
    {
     "name": "stdout",
     "output_type": "stream",
     "text": [
      "✅ Saved: C:\\Users\\utkar\\OneDrive\\Desktop\\ClimateXTelemedicine Odisha\\Odisha_VScode\\.venv\\Final_version\\Data\\snapped_facilities_by_district\\dhenkanal_facilities_snapped.geojson\n"
     ]
    },
    {
     "name": "stderr",
     "output_type": "stream",
     "text": [
      "Snapping facilities in gajapati: 100%|██████████| 165/165 [00:00<00:00, 1054.65it/s]\n",
      "🔁 Snapping All Districts:  33%|███▎      | 10/30 [00:04<00:06,  2.99it/s]"
     ]
    },
    {
     "name": "stdout",
     "output_type": "stream",
     "text": [
      "✅ Saved: C:\\Users\\utkar\\OneDrive\\Desktop\\ClimateXTelemedicine Odisha\\Odisha_VScode\\.venv\\Final_version\\Data\\snapped_facilities_by_district\\gajapati_facilities_snapped.geojson\n"
     ]
    },
    {
     "name": "stderr",
     "output_type": "stream",
     "text": [
      "Snapping facilities in ganjam: 100%|██████████| 583/583 [00:00<00:00, 1347.80it/s]\n",
      "🔁 Snapping All Districts:  37%|███▋      | 11/30 [00:05<00:08,  2.17it/s]"
     ]
    },
    {
     "name": "stdout",
     "output_type": "stream",
     "text": [
      "✅ Saved: C:\\Users\\utkar\\OneDrive\\Desktop\\ClimateXTelemedicine Odisha\\Odisha_VScode\\.venv\\Final_version\\Data\\snapped_facilities_by_district\\ganjam_facilities_snapped.geojson\n"
     ]
    },
    {
     "name": "stderr",
     "output_type": "stream",
     "text": [
      "Snapping facilities in jagatsinghapur: 100%|██████████| 236/236 [00:00<00:00, 1618.40it/s]\n",
      "🔁 Snapping All Districts:  40%|████      | 12/30 [00:05<00:07,  2.44it/s]"
     ]
    },
    {
     "name": "stdout",
     "output_type": "stream",
     "text": [
      "✅ Saved: C:\\Users\\utkar\\OneDrive\\Desktop\\ClimateXTelemedicine Odisha\\Odisha_VScode\\.venv\\Final_version\\Data\\snapped_facilities_by_district\\jagatsinghapur_facilities_snapped.geojson\n"
     ]
    },
    {
     "name": "stderr",
     "output_type": "stream",
     "text": [
      "Snapping facilities in jajapur: 100%|██████████| 329/329 [00:00<00:00, 891.33it/s]\n",
      "🔁 Snapping All Districts:  43%|████▎     | 13/30 [00:06<00:07,  2.19it/s]"
     ]
    },
    {
     "name": "stdout",
     "output_type": "stream",
     "text": [
      "✅ Saved: C:\\Users\\utkar\\OneDrive\\Desktop\\ClimateXTelemedicine Odisha\\Odisha_VScode\\.venv\\Final_version\\Data\\snapped_facilities_by_district\\jajapur_facilities_snapped.geojson\n"
     ]
    },
    {
     "name": "stderr",
     "output_type": "stream",
     "text": [
      "Snapping facilities in jharsuguda: 100%|██████████| 89/89 [00:00<00:00, 467.30it/s]\n",
      "🔁 Snapping All Districts:  47%|████▋     | 14/30 [00:06<00:06,  2.33it/s]"
     ]
    },
    {
     "name": "stdout",
     "output_type": "stream",
     "text": [
      "✅ Saved: C:\\Users\\utkar\\OneDrive\\Desktop\\ClimateXTelemedicine Odisha\\Odisha_VScode\\.venv\\Final_version\\Data\\snapped_facilities_by_district\\jharsuguda_facilities_snapped.geojson\n"
     ]
    },
    {
     "name": "stderr",
     "output_type": "stream",
     "text": [
      "Snapping facilities in kalahandi: 100%|██████████| 303/303 [00:00<00:00, 1077.38it/s]\n",
      "🔁 Snapping All Districts:  50%|█████     | 15/30 [00:07<00:07,  2.06it/s]"
     ]
    },
    {
     "name": "stdout",
     "output_type": "stream",
     "text": [
      "✅ Saved: C:\\Users\\utkar\\OneDrive\\Desktop\\ClimateXTelemedicine Odisha\\Odisha_VScode\\.venv\\Final_version\\Data\\snapped_facilities_by_district\\kalahandi_facilities_snapped.geojson\n"
     ]
    },
    {
     "name": "stderr",
     "output_type": "stream",
     "text": [
      "Snapping facilities in kandhamal: 100%|██████████| 224/224 [00:00<00:00, 1036.96it/s]\n",
      "🔁 Snapping All Districts:  53%|█████▎    | 16/30 [00:07<00:06,  2.11it/s]"
     ]
    },
    {
     "name": "stdout",
     "output_type": "stream",
     "text": [
      "✅ Saved: C:\\Users\\utkar\\OneDrive\\Desktop\\ClimateXTelemedicine Odisha\\Odisha_VScode\\.venv\\Final_version\\Data\\snapped_facilities_by_district\\kandhamal_facilities_snapped.geojson\n"
     ]
    },
    {
     "name": "stderr",
     "output_type": "stream",
     "text": [
      "Snapping facilities in kendrapara: 100%|██████████| 282/282 [00:00<00:00, 1083.86it/s]\n",
      "🔁 Snapping All Districts:  57%|█████▋    | 17/30 [00:08<00:06,  2.15it/s]"
     ]
    },
    {
     "name": "stdout",
     "output_type": "stream",
     "text": [
      "✅ Saved: C:\\Users\\utkar\\OneDrive\\Desktop\\ClimateXTelemedicine Odisha\\Odisha_VScode\\.venv\\Final_version\\Data\\snapped_facilities_by_district\\kendrapara_facilities_snapped.geojson\n"
     ]
    },
    {
     "name": "stderr",
     "output_type": "stream",
     "text": [
      "Snapping facilities in kendujhar: 100%|██████████| 431/431 [00:00<00:00, 934.06it/s] \n",
      "🔁 Snapping All Districts:  60%|██████    | 18/30 [00:08<00:06,  1.84it/s]"
     ]
    },
    {
     "name": "stdout",
     "output_type": "stream",
     "text": [
      "✅ Saved: C:\\Users\\utkar\\OneDrive\\Desktop\\ClimateXTelemedicine Odisha\\Odisha_VScode\\.venv\\Final_version\\Data\\snapped_facilities_by_district\\kendujhar_facilities_snapped.geojson\n"
     ]
    },
    {
     "name": "stderr",
     "output_type": "stream",
     "text": [
      "Snapping facilities in khordha: 100%|██████████| 275/275 [00:00<00:00, 971.79it/s]\n",
      "🔁 Snapping All Districts:  63%|██████▎   | 19/30 [00:09<00:05,  1.87it/s]"
     ]
    },
    {
     "name": "stdout",
     "output_type": "stream",
     "text": [
      "✅ Saved: C:\\Users\\utkar\\OneDrive\\Desktop\\ClimateXTelemedicine Odisha\\Odisha_VScode\\.venv\\Final_version\\Data\\snapped_facilities_by_district\\khordha_facilities_snapped.geojson\n"
     ]
    },
    {
     "name": "stderr",
     "output_type": "stream",
     "text": [
      "Snapping facilities in koraput: 100%|██████████| 370/370 [00:00<00:00, 1324.13it/s]\n",
      "🔁 Snapping All Districts:  67%|██████▋   | 20/30 [00:09<00:05,  1.89it/s]"
     ]
    },
    {
     "name": "stdout",
     "output_type": "stream",
     "text": [
      "✅ Saved: C:\\Users\\utkar\\OneDrive\\Desktop\\ClimateXTelemedicine Odisha\\Odisha_VScode\\.venv\\Final_version\\Data\\snapped_facilities_by_district\\koraput_facilities_snapped.geojson\n"
     ]
    },
    {
     "name": "stderr",
     "output_type": "stream",
     "text": [
      "Snapping facilities in malkangiri: 100%|██████████| 191/191 [00:00<00:00, 950.65it/s]\n",
      "🔁 Snapping All Districts:  70%|███████   | 21/30 [00:10<00:04,  2.11it/s]"
     ]
    },
    {
     "name": "stdout",
     "output_type": "stream",
     "text": [
      "✅ Saved: C:\\Users\\utkar\\OneDrive\\Desktop\\ClimateXTelemedicine Odisha\\Odisha_VScode\\.venv\\Final_version\\Data\\snapped_facilities_by_district\\malkangiri_facilities_snapped.geojson\n"
     ]
    },
    {
     "name": "stderr",
     "output_type": "stream",
     "text": [
      "Snapping facilities in mayurbhanj: 100%|██████████| 703/703 [00:00<00:00, 1222.85it/s]\n",
      "🔁 Snapping All Districts:  73%|███████▎  | 22/30 [00:11<00:04,  1.67it/s]"
     ]
    },
    {
     "name": "stdout",
     "output_type": "stream",
     "text": [
      "✅ Saved: C:\\Users\\utkar\\OneDrive\\Desktop\\ClimateXTelemedicine Odisha\\Odisha_VScode\\.venv\\Final_version\\Data\\snapped_facilities_by_district\\mayurbhanj_facilities_snapped.geojson\n"
     ]
    },
    {
     "name": "stderr",
     "output_type": "stream",
     "text": [
      "Snapping facilities in nabarangpur: 100%|██████████| 340/340 [00:00<00:00, 1917.51it/s]\n",
      "🔁 Snapping All Districts:  77%|███████▋  | 23/30 [00:11<00:03,  1.95it/s]"
     ]
    },
    {
     "name": "stdout",
     "output_type": "stream",
     "text": [
      "✅ Saved: C:\\Users\\utkar\\OneDrive\\Desktop\\ClimateXTelemedicine Odisha\\Odisha_VScode\\.venv\\Final_version\\Data\\snapped_facilities_by_district\\nabarangpur_facilities_snapped.geojson\n"
     ]
    },
    {
     "name": "stderr",
     "output_type": "stream",
     "text": [
      "Snapping facilities in nayagarh: 100%|██████████| 216/216 [00:00<00:00, 1465.79it/s]\n",
      "🔁 Snapping All Districts:  80%|████████  | 24/30 [00:11<00:02,  2.24it/s]"
     ]
    },
    {
     "name": "stdout",
     "output_type": "stream",
     "text": [
      "✅ Saved: C:\\Users\\utkar\\OneDrive\\Desktop\\ClimateXTelemedicine Odisha\\Odisha_VScode\\.venv\\Final_version\\Data\\snapped_facilities_by_district\\nayagarh_facilities_snapped.geojson\n"
     ]
    },
    {
     "name": "stderr",
     "output_type": "stream",
     "text": [
      "Snapping facilities in nuapada: 100%|██████████| 119/119 [00:00<00:00, 965.35it/s] \n",
      "🔁 Snapping All Districts:  83%|████████▎ | 25/30 [00:11<00:01,  2.57it/s]"
     ]
    },
    {
     "name": "stdout",
     "output_type": "stream",
     "text": [
      "✅ Saved: C:\\Users\\utkar\\OneDrive\\Desktop\\ClimateXTelemedicine Odisha\\Odisha_VScode\\.venv\\Final_version\\Data\\snapped_facilities_by_district\\nuapada_facilities_snapped.geojson\n"
     ]
    },
    {
     "name": "stderr",
     "output_type": "stream",
     "text": [
      "Snapping facilities in puri: 100%|██████████| 304/304 [00:00<00:00, 1878.23it/s]\n",
      "🔁 Snapping All Districts:  87%|████████▋ | 26/30 [00:12<00:01,  2.64it/s]"
     ]
    },
    {
     "name": "stdout",
     "output_type": "stream",
     "text": [
      "✅ Saved: C:\\Users\\utkar\\OneDrive\\Desktop\\ClimateXTelemedicine Odisha\\Odisha_VScode\\.venv\\Final_version\\Data\\snapped_facilities_by_district\\puri_facilities_snapped.geojson\n"
     ]
    },
    {
     "name": "stderr",
     "output_type": "stream",
     "text": [
      "Snapping facilities in rayagada: 100%|██████████| 284/284 [00:00<00:00, 1446.42it/s]\n",
      "🔁 Snapping All Districts:  90%|█████████ | 27/30 [00:12<00:01,  2.53it/s]"
     ]
    },
    {
     "name": "stdout",
     "output_type": "stream",
     "text": [
      "✅ Saved: C:\\Users\\utkar\\OneDrive\\Desktop\\ClimateXTelemedicine Odisha\\Odisha_VScode\\.venv\\Final_version\\Data\\snapped_facilities_by_district\\rayagada_facilities_snapped.geojson\n"
     ]
    },
    {
     "name": "stderr",
     "output_type": "stream",
     "text": [
      "Snapping facilities in sambalpur: 100%|██████████| 212/212 [00:00<00:00, 1201.74it/s]\n",
      "🔁 Snapping All Districts:  93%|█████████▎| 28/30 [00:12<00:00,  2.73it/s]"
     ]
    },
    {
     "name": "stdout",
     "output_type": "stream",
     "text": [
      "✅ Saved: C:\\Users\\utkar\\OneDrive\\Desktop\\ClimateXTelemedicine Odisha\\Odisha_VScode\\.venv\\Final_version\\Data\\snapped_facilities_by_district\\sambalpur_facilities_snapped.geojson\n"
     ]
    },
    {
     "name": "stderr",
     "output_type": "stream",
     "text": [
      "Snapping facilities in sonepur: 100%|██████████| 114/114 [00:00<00:00, 1401.10it/s]\n"
     ]
    },
    {
     "name": "stdout",
     "output_type": "stream",
     "text": [
      "✅ Saved: C:\\Users\\utkar\\OneDrive\\Desktop\\ClimateXTelemedicine Odisha\\Odisha_VScode\\.venv\\Final_version\\Data\\snapped_facilities_by_district\\sonepur_facilities_snapped.geojson"
     ]
    },
    {
     "name": "stderr",
     "output_type": "stream",
     "text": [
      "🔁 Snapping All Districts:  97%|█████████▋| 29/30 [00:13<00:00,  3.14it/s]"
     ]
    },
    {
     "name": "stdout",
     "output_type": "stream",
     "text": [
      "\n"
     ]
    },
    {
     "name": "stderr",
     "output_type": "stream",
     "text": [
      "Snapping facilities in sundargarh: 100%|██████████| 471/471 [00:00<00:00, 2953.57it/s]\n",
      "🔁 Snapping All Districts: 100%|██████████| 30/30 [00:13<00:00,  2.22it/s]"
     ]
    },
    {
     "name": "stdout",
     "output_type": "stream",
     "text": [
      "✅ Saved: C:\\Users\\utkar\\OneDrive\\Desktop\\ClimateXTelemedicine Odisha\\Odisha_VScode\\.venv\\Final_version\\Data\\snapped_facilities_by_district\\sundargarh_facilities_snapped.geojson\n"
     ]
    },
    {
     "name": "stderr",
     "output_type": "stream",
     "text": [
      "\n"
     ]
    }
   ],
   "source": [
    "for district in tqdm(districts, desc=\"🔁 Snapping All Districts\"):\n",
    "    village_file = os.path.join(SNAPPED_VILLAGE_DIR, f\"{district}_villages_snapped.geojson\")\n",
    "    if not os.path.exists(village_file):\n",
    "        print(f\"❌ Missing: {district}\")\n",
    "        continue\n",
    "\n",
    "    gdf = snap_facilities_to_nearest_road(village_file, facilities_df, district)\n",
    "    out_path = os.path.join(OUTPUT_DIR, f\"{district}_facilities_snapped.geojson\")\n",
    "    gdf.to_file(out_path, driver=\"GeoJSON\")\n",
    "    print(f\"✅ Saved: {out_path}\")"
   ]
  },
  {
   "cell_type": "code",
   "execution_count": 4,
   "id": "d8f5bcac",
   "metadata": {},
   "outputs": [
    {
     "name": "stdout",
     "output_type": "stream",
     "text": [
      "✅ Total snapped facilities: 210\n",
      "❌ Missing NINs: 0\n",
      "⚠️ Duplicate NINs: 1\n",
      "❌ Invalid geometries: 0\n",
      "\n",
      "📌 Sample entries:\n",
      "          NIN     Facilityname Districtname facility_type_standardized  \\\n",
      "0  6728864528          Bantala       Anugul                        chc   \n",
      "1  7324817373         MADHAPUR       Anugul                        chc   \n",
      "2  7352515139         BANARPAL       Anugul                        chc   \n",
      "3  5687542687  RAJKISHORENAGAR       Anugul                        chc   \n",
      "4  8282723678           Kosala       Anugul                        chc   \n",
      "\n",
      "                    geometry  \n",
      "0  POINT (85.07392 20.73864)  \n",
      "1  POINT (84.42443 20.78356)  \n",
      "2  POINT (85.21591 20.84181)  \n",
      "3   POINT (84.4844 20.95473)  \n",
      "4   POINT (84.9333 21.01649)  \n"
     ]
    }
   ],
   "source": [
    "import geopandas as gpd\n",
    "import pandas as pd\n",
    "\n",
    "# 📂 Path to the Anugul snapped facilities file\n",
    "file_path = r\"C:\\Users\\utkar\\OneDrive\\Desktop\\ClimateXTelemedicine Odisha\\Odisha_VScode\\.venv\\Final_version\\Data\\snapped_facilities_by_district\\anugul_facilities_snapped.geojson\"\n",
    "\n",
    "# ✅ Load the GeoJSON\n",
    "gdf = gpd.read_file(file_path)\n",
    "\n",
    "# 📋 Summary checks\n",
    "print(\"✅ Total snapped facilities:\", len(gdf))\n",
    "\n",
    "# 🔍 Check for missing or duplicate NINs\n",
    "missing_nin = gdf['NIN'].isnull().sum()\n",
    "duplicate_nin = gdf[gdf.duplicated(subset='NIN', keep=False)]\n",
    "\n",
    "print(\"❌ Missing NINs:\", missing_nin)\n",
    "print(\"⚠️ Duplicate NINs:\", duplicate_nin['NIN'].nunique())\n",
    "\n",
    "# 📍 Validate geometry\n",
    "invalid_geom = gdf[~gdf.geometry.is_valid | gdf.geometry.is_empty]\n",
    "print(\"❌ Invalid geometries:\", len(invalid_geom))\n",
    "\n",
    "# 📑 Quick preview\n",
    "print(\"\\n📌 Sample entries:\")\n",
    "print(gdf[['NIN', 'Facilityname', 'Districtname', 'facility_type_standardized', 'geometry']].head())"
   ]
  }
 ],
 "metadata": {
  "kernelspec": {
   "display_name": ".venv",
   "language": "python",
   "name": "python3"
  },
  "language_info": {
   "codemirror_mode": {
    "name": "ipython",
    "version": 3
   },
   "file_extension": ".py",
   "mimetype": "text/x-python",
   "name": "python",
   "nbconvert_exporter": "python",
   "pygments_lexer": "ipython3",
   "version": "3.13.2"
  }
 },
 "nbformat": 4,
 "nbformat_minor": 5
}
